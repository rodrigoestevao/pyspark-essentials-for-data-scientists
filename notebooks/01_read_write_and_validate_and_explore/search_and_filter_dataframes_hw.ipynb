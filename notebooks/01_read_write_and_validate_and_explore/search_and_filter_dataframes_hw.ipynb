{
 "cells": [
  {
   "cell_type": "markdown",
   "metadata": {},
   "source": [
    "# Search and Filter DataFrames in PySpark HW"
   ]
  },
  {
   "cell_type": "markdown",
   "metadata": {},
   "source": [
    "Now it's time to put what you've learn into action with a homework assignment!\n",
    "\n",
    "In case you need it again, here is the link to the documentation for the full list available function in pyspark.sql.functions library:\n",
    "http://spark.apache.org/docs/latest/api/python/pyspark.sql.html#module-pyspark.sql.functions\n",
    "\n",
    "\n",
    "### First set up your Spark Session!\n",
    "Alright so first things first, let's start up our pyspark instance."
   ]
  },
  {
   "cell_type": "code",
   "execution_count": 1,
   "metadata": {},
   "outputs": [],
   "source": [
    "%config Completer.use_jedi = False\n",
    "\n",
    "import os\n",
    "import sys\n",
    "import shutil\n",
    "\n",
    "BASE_DIR = os.path.realpath(os.path.join(os.getcwd(), \"..\", \"..\"))\n",
    "\n",
    "if not BASE_DIR in sys.path:\n",
    "    sys.path.append(BASE_DIR)\n",
    "    \n",
    "from utils import extract_zip\n",
    "\n",
    "DATASETS_PATH = \"datasets/\""
   ]
  },
  {
   "cell_type": "code",
   "execution_count": 2,
   "metadata": {},
   "outputs": [
    {
     "data": {
      "text/html": [
       "\n",
       "            <div>\n",
       "                <p><b>SparkSession - in-memory</b></p>\n",
       "                \n",
       "        <div>\n",
       "            <p><b>SparkContext</b></p>\n",
       "\n",
       "            <p><a href=\"http://192.168.0.144:4040\">Spark UI</a></p>\n",
       "\n",
       "            <dl>\n",
       "              <dt>Version</dt>\n",
       "                <dd><code>v3.0.2</code></dd>\n",
       "              <dt>Master</dt>\n",
       "                <dd><code>local[*]</code></dd>\n",
       "              <dt>AppName</dt>\n",
       "                <dd><code>SeachFielterHW</code></dd>\n",
       "            </dl>\n",
       "        </div>\n",
       "        \n",
       "            </div>\n",
       "        "
      ],
      "text/plain": [
       "<pyspark.sql.session.SparkSession at 0x7f17813aa490>"
      ]
     },
     "execution_count": 2,
     "metadata": {},
     "output_type": "execute_result"
    }
   ],
   "source": [
    "import pyspark\n",
    "\n",
    "from pyspark.sql import SparkSession\n",
    "\n",
    "spark = SparkSession.builder.appName(\"SeachFielterHW\").getOrCreate()\n",
    "spark"
   ]
  },
  {
   "cell_type": "markdown",
   "metadata": {},
   "source": [
    "## Read in the DataFrame for this Notebook\n",
    "\n",
    "We will be continuing to use the fifa19.csv file for this notebook. Make sure that you are writting the correct path to the file. "
   ]
  },
  {
   "cell_type": "code",
   "execution_count": 5,
   "metadata": {},
   "outputs": [],
   "source": [
    "data_file = extract_zip(\n",
    "    zip_file=os.path.join(DATASETS_PATH, \"fifa19.csv.zip\"), member=\"fifa19.csv\"\n",
    ")\n",
    "\n",
    "fifa = spark.read.csv(data_file, inferSchema=True, header=True)"
   ]
  },
  {
   "cell_type": "markdown",
   "metadata": {},
   "source": [
    "## About this dataframe\n",
    "\n",
    "The **fifa19.csv** dataset includes a list of all the FIFA 2019 players and their attributes listed below: \n",
    "\n",
    " - **General**: Age, Nationality, Overall, Potential, Club\n",
    " - **Metrics:** Value, Wage\n",
    " - **Player Descriptive:** Preferred Foot, International Reputation, Weak Foot, Skill Moves, Work Rate, Position, Jersey Number, Joined, Loaned From, Contract Valid Until, Height, Weight\n",
    " - **Possition:** LS, ST, RS, LW, LF, CF, RF, RW, LAM, CAM, RAM, LM, LCM, CM, RCM, RM, LWB, LDM, CDM, RDM, RWB, LB, LCB, CB, RCB, RB, \n",
    " - **Other:** Crossing, Finishing, Heading, Accuracy, ShortPassing, Volleys, Dribbling, Curve, FKAccuracy, LongPassing, BallControl, Acceleration, SprintSpeed, Agility, Reactions, Balance, ShotPower, Jumping, Stamina, Strength, LongShots, Aggression, Interceptions, Positioning, Vision, Penalties, Composure, Marking, StandingTackle, SlidingTackle, GKDiving, GKHandling, GKKicking, GKPositioning, GKReflexes, and Release Clause.\n",
    "\n",
    "**Source:** https://www.kaggle.com/karangadiya/fifa19"
   ]
  },
  {
   "cell_type": "markdown",
   "metadata": {},
   "source": [
    "Use the .toPandas() method to view the first few lines of the dataset so we know what we are working with. "
   ]
  },
  {
   "cell_type": "code",
   "execution_count": 6,
   "metadata": {},
   "outputs": [
    {
     "data": {
      "text/html": [
       "<div>\n",
       "<style scoped>\n",
       "    .dataframe tbody tr th:only-of-type {\n",
       "        vertical-align: middle;\n",
       "    }\n",
       "\n",
       "    .dataframe tbody tr th {\n",
       "        vertical-align: top;\n",
       "    }\n",
       "\n",
       "    .dataframe thead th {\n",
       "        text-align: right;\n",
       "    }\n",
       "</style>\n",
       "<table border=\"1\" class=\"dataframe\">\n",
       "  <thead>\n",
       "    <tr style=\"text-align: right;\">\n",
       "      <th></th>\n",
       "      <th>_c0</th>\n",
       "      <th>ID</th>\n",
       "      <th>Name</th>\n",
       "      <th>Age</th>\n",
       "      <th>Photo</th>\n",
       "      <th>Nationality</th>\n",
       "      <th>Flag</th>\n",
       "      <th>Overall</th>\n",
       "      <th>Potential</th>\n",
       "      <th>Club</th>\n",
       "      <th>...</th>\n",
       "      <th>Composure</th>\n",
       "      <th>Marking</th>\n",
       "      <th>StandingTackle</th>\n",
       "      <th>SlidingTackle</th>\n",
       "      <th>GKDiving</th>\n",
       "      <th>GKHandling</th>\n",
       "      <th>GKKicking</th>\n",
       "      <th>GKPositioning</th>\n",
       "      <th>GKReflexes</th>\n",
       "      <th>Release Clause</th>\n",
       "    </tr>\n",
       "  </thead>\n",
       "  <tbody>\n",
       "    <tr>\n",
       "      <th>0</th>\n",
       "      <td>0</td>\n",
       "      <td>158023</td>\n",
       "      <td>L. Messi</td>\n",
       "      <td>31</td>\n",
       "      <td>https://cdn.sofifa.org/players/4/19/158023.png</td>\n",
       "      <td>Argentina</td>\n",
       "      <td>https://cdn.sofifa.org/flags/52.png</td>\n",
       "      <td>94</td>\n",
       "      <td>94</td>\n",
       "      <td>FC Barcelona</td>\n",
       "      <td>...</td>\n",
       "      <td>96</td>\n",
       "      <td>33</td>\n",
       "      <td>28</td>\n",
       "      <td>26</td>\n",
       "      <td>6</td>\n",
       "      <td>11</td>\n",
       "      <td>15</td>\n",
       "      <td>14</td>\n",
       "      <td>8</td>\n",
       "      <td>€226.5M</td>\n",
       "    </tr>\n",
       "    <tr>\n",
       "      <th>1</th>\n",
       "      <td>1</td>\n",
       "      <td>20801</td>\n",
       "      <td>Cristiano Ronaldo</td>\n",
       "      <td>33</td>\n",
       "      <td>https://cdn.sofifa.org/players/4/19/20801.png</td>\n",
       "      <td>Portugal</td>\n",
       "      <td>https://cdn.sofifa.org/flags/38.png</td>\n",
       "      <td>94</td>\n",
       "      <td>94</td>\n",
       "      <td>Juventus</td>\n",
       "      <td>...</td>\n",
       "      <td>95</td>\n",
       "      <td>28</td>\n",
       "      <td>31</td>\n",
       "      <td>23</td>\n",
       "      <td>7</td>\n",
       "      <td>11</td>\n",
       "      <td>15</td>\n",
       "      <td>14</td>\n",
       "      <td>11</td>\n",
       "      <td>€127.1M</td>\n",
       "    </tr>\n",
       "    <tr>\n",
       "      <th>2</th>\n",
       "      <td>2</td>\n",
       "      <td>190871</td>\n",
       "      <td>Neymar Jr</td>\n",
       "      <td>26</td>\n",
       "      <td>https://cdn.sofifa.org/players/4/19/190871.png</td>\n",
       "      <td>Brazil</td>\n",
       "      <td>https://cdn.sofifa.org/flags/54.png</td>\n",
       "      <td>92</td>\n",
       "      <td>93</td>\n",
       "      <td>Paris Saint-Germain</td>\n",
       "      <td>...</td>\n",
       "      <td>94</td>\n",
       "      <td>27</td>\n",
       "      <td>24</td>\n",
       "      <td>33</td>\n",
       "      <td>9</td>\n",
       "      <td>9</td>\n",
       "      <td>15</td>\n",
       "      <td>15</td>\n",
       "      <td>11</td>\n",
       "      <td>€228.1M</td>\n",
       "    </tr>\n",
       "    <tr>\n",
       "      <th>3</th>\n",
       "      <td>3</td>\n",
       "      <td>193080</td>\n",
       "      <td>De Gea</td>\n",
       "      <td>27</td>\n",
       "      <td>https://cdn.sofifa.org/players/4/19/193080.png</td>\n",
       "      <td>Spain</td>\n",
       "      <td>https://cdn.sofifa.org/flags/45.png</td>\n",
       "      <td>91</td>\n",
       "      <td>93</td>\n",
       "      <td>Manchester United</td>\n",
       "      <td>...</td>\n",
       "      <td>68</td>\n",
       "      <td>15</td>\n",
       "      <td>21</td>\n",
       "      <td>13</td>\n",
       "      <td>90</td>\n",
       "      <td>85</td>\n",
       "      <td>87</td>\n",
       "      <td>88</td>\n",
       "      <td>94</td>\n",
       "      <td>€138.6M</td>\n",
       "    </tr>\n",
       "    <tr>\n",
       "      <th>4</th>\n",
       "      <td>4</td>\n",
       "      <td>192985</td>\n",
       "      <td>K. De Bruyne</td>\n",
       "      <td>27</td>\n",
       "      <td>https://cdn.sofifa.org/players/4/19/192985.png</td>\n",
       "      <td>Belgium</td>\n",
       "      <td>https://cdn.sofifa.org/flags/7.png</td>\n",
       "      <td>91</td>\n",
       "      <td>92</td>\n",
       "      <td>Manchester City</td>\n",
       "      <td>...</td>\n",
       "      <td>88</td>\n",
       "      <td>68</td>\n",
       "      <td>58</td>\n",
       "      <td>51</td>\n",
       "      <td>15</td>\n",
       "      <td>13</td>\n",
       "      <td>5</td>\n",
       "      <td>10</td>\n",
       "      <td>13</td>\n",
       "      <td>€196.4M</td>\n",
       "    </tr>\n",
       "  </tbody>\n",
       "</table>\n",
       "<p>5 rows × 89 columns</p>\n",
       "</div>"
      ],
      "text/plain": [
       "   _c0      ID               Name  Age  \\\n",
       "0    0  158023           L. Messi   31   \n",
       "1    1   20801  Cristiano Ronaldo   33   \n",
       "2    2  190871          Neymar Jr   26   \n",
       "3    3  193080             De Gea   27   \n",
       "4    4  192985       K. De Bruyne   27   \n",
       "\n",
       "                                            Photo Nationality  \\\n",
       "0  https://cdn.sofifa.org/players/4/19/158023.png   Argentina   \n",
       "1   https://cdn.sofifa.org/players/4/19/20801.png    Portugal   \n",
       "2  https://cdn.sofifa.org/players/4/19/190871.png      Brazil   \n",
       "3  https://cdn.sofifa.org/players/4/19/193080.png       Spain   \n",
       "4  https://cdn.sofifa.org/players/4/19/192985.png     Belgium   \n",
       "\n",
       "                                  Flag  Overall  Potential  \\\n",
       "0  https://cdn.sofifa.org/flags/52.png       94         94   \n",
       "1  https://cdn.sofifa.org/flags/38.png       94         94   \n",
       "2  https://cdn.sofifa.org/flags/54.png       92         93   \n",
       "3  https://cdn.sofifa.org/flags/45.png       91         93   \n",
       "4   https://cdn.sofifa.org/flags/7.png       91         92   \n",
       "\n",
       "                  Club  ... Composure Marking StandingTackle  SlidingTackle  \\\n",
       "0         FC Barcelona  ...        96      33             28             26   \n",
       "1             Juventus  ...        95      28             31             23   \n",
       "2  Paris Saint-Germain  ...        94      27             24             33   \n",
       "3    Manchester United  ...        68      15             21             13   \n",
       "4      Manchester City  ...        88      68             58             51   \n",
       "\n",
       "  GKDiving  GKHandling  GKKicking  GKPositioning GKReflexes Release Clause  \n",
       "0        6          11         15             14          8        €226.5M  \n",
       "1        7          11         15             14         11        €127.1M  \n",
       "2        9           9         15             15         11        €228.1M  \n",
       "3       90          85         87             88         94        €138.6M  \n",
       "4       15          13          5             10         13        €196.4M  \n",
       "\n",
       "[5 rows x 89 columns]"
      ]
     },
     "execution_count": 6,
     "metadata": {},
     "output_type": "execute_result"
    }
   ],
   "source": [
    "fifa.limit(5).toPandas()"
   ]
  },
  {
   "cell_type": "markdown",
   "metadata": {},
   "source": [
    "Now print the schema of the dataset so we can see the data types of all the varaibles. "
   ]
  },
  {
   "cell_type": "code",
   "execution_count": 7,
   "metadata": {},
   "outputs": [
    {
     "name": "stdout",
     "output_type": "stream",
     "text": [
      "root\n",
      " |-- _c0: integer (nullable = true)\n",
      " |-- ID: integer (nullable = true)\n",
      " |-- Name: string (nullable = true)\n",
      " |-- Age: integer (nullable = true)\n",
      " |-- Photo: string (nullable = true)\n",
      " |-- Nationality: string (nullable = true)\n",
      " |-- Flag: string (nullable = true)\n",
      " |-- Overall: integer (nullable = true)\n",
      " |-- Potential: integer (nullable = true)\n",
      " |-- Club: string (nullable = true)\n",
      " |-- Club Logo: string (nullable = true)\n",
      " |-- Value: string (nullable = true)\n",
      " |-- Wage: string (nullable = true)\n",
      " |-- Special: integer (nullable = true)\n",
      " |-- Preferred Foot: string (nullable = true)\n",
      " |-- International Reputation: integer (nullable = true)\n",
      " |-- Weak Foot: integer (nullable = true)\n",
      " |-- Skill Moves: integer (nullable = true)\n",
      " |-- Work Rate: string (nullable = true)\n",
      " |-- Body Type: string (nullable = true)\n",
      " |-- Real Face: string (nullable = true)\n",
      " |-- Position: string (nullable = true)\n",
      " |-- Jersey Number: integer (nullable = true)\n",
      " |-- Joined: string (nullable = true)\n",
      " |-- Loaned From: string (nullable = true)\n",
      " |-- Contract Valid Until: string (nullable = true)\n",
      " |-- Height: string (nullable = true)\n",
      " |-- Weight: string (nullable = true)\n",
      " |-- LS: string (nullable = true)\n",
      " |-- ST: string (nullable = true)\n",
      " |-- RS: string (nullable = true)\n",
      " |-- LW: string (nullable = true)\n",
      " |-- LF: string (nullable = true)\n",
      " |-- CF: string (nullable = true)\n",
      " |-- RF: string (nullable = true)\n",
      " |-- RW: string (nullable = true)\n",
      " |-- LAM: string (nullable = true)\n",
      " |-- CAM: string (nullable = true)\n",
      " |-- RAM: string (nullable = true)\n",
      " |-- LM: string (nullable = true)\n",
      " |-- LCM: string (nullable = true)\n",
      " |-- CM: string (nullable = true)\n",
      " |-- RCM: string (nullable = true)\n",
      " |-- RM: string (nullable = true)\n",
      " |-- LWB: string (nullable = true)\n",
      " |-- LDM: string (nullable = true)\n",
      " |-- CDM: string (nullable = true)\n",
      " |-- RDM: string (nullable = true)\n",
      " |-- RWB: string (nullable = true)\n",
      " |-- LB: string (nullable = true)\n",
      " |-- LCB: string (nullable = true)\n",
      " |-- CB: string (nullable = true)\n",
      " |-- RCB: string (nullable = true)\n",
      " |-- RB: string (nullable = true)\n",
      " |-- Crossing: integer (nullable = true)\n",
      " |-- Finishing: integer (nullable = true)\n",
      " |-- HeadingAccuracy: integer (nullable = true)\n",
      " |-- ShortPassing: integer (nullable = true)\n",
      " |-- Volleys: integer (nullable = true)\n",
      " |-- Dribbling: integer (nullable = true)\n",
      " |-- Curve: integer (nullable = true)\n",
      " |-- FKAccuracy: integer (nullable = true)\n",
      " |-- LongPassing: integer (nullable = true)\n",
      " |-- BallControl: integer (nullable = true)\n",
      " |-- Acceleration: integer (nullable = true)\n",
      " |-- SprintSpeed: integer (nullable = true)\n",
      " |-- Agility: integer (nullable = true)\n",
      " |-- Reactions: integer (nullable = true)\n",
      " |-- Balance: integer (nullable = true)\n",
      " |-- ShotPower: integer (nullable = true)\n",
      " |-- Jumping: integer (nullable = true)\n",
      " |-- Stamina: integer (nullable = true)\n",
      " |-- Strength: integer (nullable = true)\n",
      " |-- LongShots: integer (nullable = true)\n",
      " |-- Aggression: integer (nullable = true)\n",
      " |-- Interceptions: integer (nullable = true)\n",
      " |-- Positioning: integer (nullable = true)\n",
      " |-- Vision: integer (nullable = true)\n",
      " |-- Penalties: integer (nullable = true)\n",
      " |-- Composure: integer (nullable = true)\n",
      " |-- Marking: integer (nullable = true)\n",
      " |-- StandingTackle: integer (nullable = true)\n",
      " |-- SlidingTackle: integer (nullable = true)\n",
      " |-- GKDiving: integer (nullable = true)\n",
      " |-- GKHandling: integer (nullable = true)\n",
      " |-- GKKicking: integer (nullable = true)\n",
      " |-- GKPositioning: integer (nullable = true)\n",
      " |-- GKReflexes: integer (nullable = true)\n",
      " |-- Release Clause: string (nullable = true)\n",
      "\n"
     ]
    }
   ],
   "source": [
    "fifa.printSchema()"
   ]
  },
  {
   "cell_type": "markdown",
   "metadata": {},
   "source": [
    "## Now let's get started!\n",
    "\n",
    "### First things first..... import the pyspark sql functions library\n",
    "\n",
    "Since we know we will be using it a lot."
   ]
  },
  {
   "cell_type": "code",
   "execution_count": 8,
   "metadata": {},
   "outputs": [],
   "source": [
    "from pyspark.sql.functions import *"
   ]
  },
  {
   "cell_type": "markdown",
   "metadata": {},
   "source": [
    "### 1. Select the Name and Position of each player in the dataframe"
   ]
  },
  {
   "cell_type": "code",
   "execution_count": 11,
   "metadata": {},
   "outputs": [
    {
     "name": "stdout",
     "output_type": "stream",
     "text": [
      "+-----------------+--------+\n",
      "|             Name|Position|\n",
      "+-----------------+--------+\n",
      "|         L. Messi|      RF|\n",
      "|Cristiano Ronaldo|      ST|\n",
      "|        Neymar Jr|      LW|\n",
      "|           De Gea|      GK|\n",
      "|     K. De Bruyne|     RCM|\n",
      "|        E. Hazard|      LF|\n",
      "|        L. Modrić|     RCM|\n",
      "|        L. Suárez|      RS|\n",
      "|     Sergio Ramos|     RCB|\n",
      "|         J. Oblak|      GK|\n",
      "|   R. Lewandowski|      ST|\n",
      "|         T. Kroos|     LCM|\n",
      "|         D. Godín|      CB|\n",
      "|      David Silva|     LCM|\n",
      "|         N. Kanté|     LDM|\n",
      "|        P. Dybala|      LF|\n",
      "|          H. Kane|      ST|\n",
      "|     A. Griezmann|     CAM|\n",
      "|    M. ter Stegen|      GK|\n",
      "|      T. Courtois|      GK|\n",
      "+-----------------+--------+\n",
      "only showing top 20 rows\n",
      "\n"
     ]
    }
   ],
   "source": [
    "fifa.select([\"Name\", \"Position\"]).show()"
   ]
  },
  {
   "cell_type": "markdown",
   "metadata": {},
   "source": [
    "### 1.1 Display the same results from above sorted by the players names"
   ]
  },
  {
   "cell_type": "code",
   "execution_count": 12,
   "metadata": {},
   "outputs": [
    {
     "name": "stdout",
     "output_type": "stream",
     "text": [
      "+--------------+--------+\n",
      "|          Name|Position|\n",
      "+--------------+--------+\n",
      "|      A. Abang|      ST|\n",
      "| A. Abdellaoui|      LB|\n",
      "|  A. Abdennour|      CB|\n",
      "|       A. Abdi|      CM|\n",
      "| A. Abdu Jaber|      ST|\n",
      "|A. Abdulhameed|      GK|\n",
      "|  A. Abedzadeh|      GK|\n",
      "|      A. Abeid|      LB|\n",
      "|      A. Ablet|     LWB|\n",
      "|    A. Abrashi|     CDM|\n",
      "|   A. Abruscia|    null|\n",
      "|    A. Absalem|      LB|\n",
      "|    A. Accardi|      CB|\n",
      "|    A. Acevedo|     RCB|\n",
      "|     A. Acosta|      LB|\n",
      "|     A. Acosta|      RM|\n",
      "|     A. Acquah|     LCM|\n",
      "|       A. Adam|      ST|\n",
      "|      A. Addai|      ST|\n",
      "|      A. Ademi|     RDM|\n",
      "+--------------+--------+\n",
      "only showing top 20 rows\n",
      "\n"
     ]
    }
   ],
   "source": [
    "fifa.select([\"Name\", \"Position\"]).orderBy(\"Name\").show()"
   ]
  },
  {
   "cell_type": "markdown",
   "metadata": {},
   "source": [
    "### 2. Select only the players who belong to a club begining with FC"
   ]
  },
  {
   "cell_type": "code",
   "execution_count": 19,
   "metadata": {},
   "outputs": [
    {
     "name": "stdout",
     "output_type": "stream",
     "text": [
      "+---------------+--------+-----------------+\n",
      "|           Name|Position|             Club|\n",
      "+---------------+--------+-----------------+\n",
      "|       L. Messi|      RF|     FC Barcelona|\n",
      "|      L. Suárez|      RS|     FC Barcelona|\n",
      "| R. Lewandowski|      ST|FC Bayern München|\n",
      "|  M. ter Stegen|      GK|     FC Barcelona|\n",
      "|Sergio Busquets|     CDM|     FC Barcelona|\n",
      "|       M. Neuer|      GK|FC Bayern München|\n",
      "|   J. Rodríguez|     LAM|FC Bayern München|\n",
      "|       Coutinho|      LW|     FC Barcelona|\n",
      "|     M. Hummels|     LCB|FC Bayern München|\n",
      "|      S. Umtiti|      CB|     FC Barcelona|\n",
      "|     Jordi Alba|      LB|     FC Barcelona|\n",
      "|     I. Rakitić|     RCM|     FC Barcelona|\n",
      "|          Piqué|     RCB|     FC Barcelona|\n",
      "|      T. Müller|     CAM|FC Bayern München|\n",
      "|         Thiago|      CM|FC Bayern München|\n",
      "|     J. Kimmich|     RCM|FC Bayern München|\n",
      "|       D. Alaba|      LB|FC Bayern München|\n",
      "|     Y. Brahimi|      LM|         FC Porto|\n",
      "|     J. Boateng|     RCB|FC Bayern München|\n",
      "|       A. Vidal|     CAM|     FC Barcelona|\n",
      "+---------------+--------+-----------------+\n",
      "only showing top 20 rows\n",
      "\n"
     ]
    }
   ],
   "source": [
    "fifa.select([\"Name\", \"Position\", \"Club\"]).where(fifa[\"Club\"].like(\"FC%\")).show()"
   ]
  },
  {
   "cell_type": "markdown",
   "metadata": {},
   "source": [
    "### 3. Who is the oldest player in the dataset and how old are they?\n",
    "\n",
    "Display only the name and age of the oldest player."
   ]
  },
  {
   "cell_type": "code",
   "execution_count": 25,
   "metadata": {},
   "outputs": [
    {
     "name": "stdout",
     "output_type": "stream",
     "text": [
      "+--------+---+\n",
      "|    Name|Age|\n",
      "+--------+---+\n",
      "|O. Pérez| 45|\n",
      "+--------+---+\n",
      "\n"
     ]
    }
   ],
   "source": [
    "fifa.select([\"Name\", \"Age\"]).orderBy(\"Age\", ascending=False).limit(1).show()"
   ]
  },
  {
   "cell_type": "markdown",
   "metadata": {},
   "source": [
    "### 4. Select only the following players from the dataframe:\n",
    "\n",
    " - L. Messi\n",
    " - Cristiano Ronaldo"
   ]
  },
  {
   "cell_type": "code",
   "execution_count": 30,
   "metadata": {},
   "outputs": [
    {
     "name": "stdout",
     "output_type": "stream",
     "text": [
      "+-----------------+--------+\n",
      "|             Name|Position|\n",
      "+-----------------+--------+\n",
      "|         L. Messi|      RF|\n",
      "|Cristiano Ronaldo|      ST|\n",
      "+-----------------+--------+\n",
      "\n"
     ]
    }
   ],
   "source": [
    "(\n",
    "    fifa\n",
    "    .select([\"Name\", \"Position\"])\n",
    "    .where(\"Name == 'L. Messi' or Name == 'Cristiano Ronaldo'\")\n",
    "    .show()\n",
    ")"
   ]
  },
  {
   "cell_type": "markdown",
   "metadata": {},
   "source": [
    "### 5. Can you select the first character from the Release Clause variable which indicates the currency used?"
   ]
  },
  {
   "cell_type": "code",
   "execution_count": 33,
   "metadata": {},
   "outputs": [
    {
     "name": "stdout",
     "output_type": "stream",
     "text": [
      "+-----------------+--------------+\n",
      "|             Name|Release Clause|\n",
      "+-----------------+--------------+\n",
      "|         L. Messi|             €|\n",
      "|Cristiano Ronaldo|             €|\n",
      "|        Neymar Jr|             €|\n",
      "|           De Gea|             €|\n",
      "|     K. De Bruyne|             €|\n",
      "|        E. Hazard|             €|\n",
      "|        L. Modrić|             €|\n",
      "|        L. Suárez|             €|\n",
      "|     Sergio Ramos|             €|\n",
      "|         J. Oblak|             €|\n",
      "|   R. Lewandowski|             €|\n",
      "|         T. Kroos|             €|\n",
      "|         D. Godín|             €|\n",
      "|      David Silva|             €|\n",
      "|         N. Kanté|             €|\n",
      "|        P. Dybala|             €|\n",
      "|          H. Kane|             €|\n",
      "|     A. Griezmann|             €|\n",
      "|    M. ter Stegen|             €|\n",
      "|      T. Courtois|             €|\n",
      "+-----------------+--------------+\n",
      "only showing top 20 rows\n",
      "\n"
     ]
    }
   ],
   "source": [
    "fifa.select(\"Name\", fifa[\"Release Clause\"].substr(1, 1).alias(\"Release Clause\")).show()"
   ]
  },
  {
   "cell_type": "markdown",
   "metadata": {},
   "source": [
    "### 6. Can you select only the players who are over the age of 40?"
   ]
  },
  {
   "cell_type": "code",
   "execution_count": 34,
   "metadata": {},
   "outputs": [
    {
     "name": "stdout",
     "output_type": "stream",
     "text": [
      "+-------------+---+\n",
      "|         Name|Age|\n",
      "+-------------+---+\n",
      "|    J. Villar| 41|\n",
      "|     B. Nivet| 41|\n",
      "|     O. Pérez| 45|\n",
      "|     C. Muñoz| 41|\n",
      "|  S. Narazaki| 42|\n",
      "| H. Sulaimani| 41|\n",
      "|     M. Tyler| 41|\n",
      "|    T. Warner| 44|\n",
      "|K. Pilkington| 44|\n",
      "+-------------+---+\n",
      "\n"
     ]
    }
   ],
   "source": [
    "fifa.select(\"Name\", \"Age\").where(\"Age > 40\").show()"
   ]
  },
  {
   "cell_type": "markdown",
   "metadata": {},
   "source": [
    "### That's is for now... Great Job!"
   ]
  }
 ],
 "metadata": {
  "kernelspec": {
   "display_name": "Python 3",
   "language": "python",
   "name": "python3"
  },
  "language_info": {
   "codemirror_mode": {
    "name": "ipython",
    "version": 3
   },
   "file_extension": ".py",
   "mimetype": "text/x-python",
   "name": "python",
   "nbconvert_exporter": "python",
   "pygments_lexer": "ipython3",
   "version": "3.8.5"
  }
 },
 "nbformat": 4,
 "nbformat_minor": 4
}
