{
 "cells": [
  {
   "cell_type": "markdown",
   "id": "considerable-homeless",
   "metadata": {},
   "source": [
    "# SQL Options in Spark Code"
   ]
  },
  {
   "cell_type": "code",
   "execution_count": 1,
   "id": "transparent-savannah",
   "metadata": {},
   "outputs": [],
   "source": [
    "%config Completer.use_jedi = False\n",
    "\n",
    "import os\n",
    "import sys\n",
    "import shutil\n",
    "\n",
    "BASE_DIR = os.path.realpath(os.path.join(os.getcwd(), \"..\", \"..\"))\n",
    "\n",
    "if not BASE_DIR in sys.path:\n",
    "    sys.path.append(BASE_DIR)\n",
    "    \n",
    "from utils import extract_zip\n",
    "\n",
    "DATASETS_PATH = \"datasets/\""
   ]
  },
  {
   "cell_type": "code",
   "execution_count": 3,
   "id": "thick-shame",
   "metadata": {},
   "outputs": [
    {
     "data": {
      "text/html": [
       "\n",
       "            <div>\n",
       "                <p><b>SparkSession - in-memory</b></p>\n",
       "                \n",
       "        <div>\n",
       "            <p><b>SparkContext</b></p>\n",
       "\n",
       "            <p><a href=\"http://192.168.0.144:4040\">Spark UI</a></p>\n",
       "\n",
       "            <dl>\n",
       "              <dt>Version</dt>\n",
       "                <dd><code>v3.0.2</code></dd>\n",
       "              <dt>Master</dt>\n",
       "                <dd><code>local[*]</code></dd>\n",
       "              <dt>AppName</dt>\n",
       "                <dd><code>SparkSQL</code></dd>\n",
       "            </dl>\n",
       "        </div>\n",
       "        \n",
       "            </div>\n",
       "        "
      ],
      "text/plain": [
       "<pyspark.sql.session.SparkSession at 0x7fbfa0cabdc0>"
      ]
     },
     "execution_count": 3,
     "metadata": {},
     "output_type": "execute_result"
    }
   ],
   "source": [
    "import pyspark \n",
    "\n",
    "from pyspark.sql import SparkSession\n",
    "\n",
    "spark = SparkSession.builder.appName(\"SparkSQL\").getOrCreate()\n",
    "spark"
   ]
  },
  {
   "cell_type": "code",
   "execution_count": 5,
   "id": "responsible-opinion",
   "metadata": {},
   "outputs": [],
   "source": [
    "data_file = extract_zip(\n",
    "    zip_file=os.path.join(DATASETS_PATH, \"rec-crime-pfa.csv.zip\"), \n",
    "    member=\"rec-crime-pfa.csv\"\n",
    ")"
   ]
  },
  {
   "cell_type": "code",
   "execution_count": 8,
   "id": "absent-melissa",
   "metadata": {},
   "outputs": [],
   "source": [
    "crime =  spark.read.csv(data_file, inferSchema=True, header=True)"
   ]
  },
  {
   "cell_type": "code",
   "execution_count": 9,
   "id": "urban-authentication",
   "metadata": {},
   "outputs": [
    {
     "data": {
      "text/plain": [
       "46469"
      ]
     },
     "execution_count": 9,
     "metadata": {},
     "output_type": "execute_result"
    }
   ],
   "source": [
    "crime.count()"
   ]
  },
  {
   "cell_type": "code",
   "execution_count": 10,
   "id": "practical-footage",
   "metadata": {},
   "outputs": [
    {
     "name": "stdout",
     "output_type": "stream",
     "text": [
      "root\n",
      " |-- 12 months ending: string (nullable = true)\n",
      " |-- PFA: string (nullable = true)\n",
      " |-- Region: string (nullable = true)\n",
      " |-- Offence: string (nullable = true)\n",
      " |-- Rolling year total number of offences: integer (nullable = true)\n",
      "\n"
     ]
    }
   ],
   "source": [
    "crime.printSchema()"
   ]
  },
  {
   "cell_type": "code",
   "execution_count": 11,
   "id": "basic-villa",
   "metadata": {},
   "outputs": [
    {
     "data": {
      "text/html": [
       "<div>\n",
       "<style scoped>\n",
       "    .dataframe tbody tr th:only-of-type {\n",
       "        vertical-align: middle;\n",
       "    }\n",
       "\n",
       "    .dataframe tbody tr th {\n",
       "        vertical-align: top;\n",
       "    }\n",
       "\n",
       "    .dataframe thead th {\n",
       "        text-align: right;\n",
       "    }\n",
       "</style>\n",
       "<table border=\"1\" class=\"dataframe\">\n",
       "  <thead>\n",
       "    <tr style=\"text-align: right;\">\n",
       "      <th></th>\n",
       "      <th>12 months ending</th>\n",
       "      <th>PFA</th>\n",
       "      <th>Region</th>\n",
       "      <th>Offence</th>\n",
       "      <th>Rolling year total number of offences</th>\n",
       "    </tr>\n",
       "  </thead>\n",
       "  <tbody>\n",
       "    <tr>\n",
       "      <th>0</th>\n",
       "      <td>31/03/2003</td>\n",
       "      <td>Avon and Somerset</td>\n",
       "      <td>South West</td>\n",
       "      <td>All other theft offences</td>\n",
       "      <td>25959</td>\n",
       "    </tr>\n",
       "    <tr>\n",
       "      <th>1</th>\n",
       "      <td>31/03/2003</td>\n",
       "      <td>Avon and Somerset</td>\n",
       "      <td>South West</td>\n",
       "      <td>Bicycle theft</td>\n",
       "      <td>3090</td>\n",
       "    </tr>\n",
       "    <tr>\n",
       "      <th>2</th>\n",
       "      <td>31/03/2003</td>\n",
       "      <td>Avon and Somerset</td>\n",
       "      <td>South West</td>\n",
       "      <td>Criminal damage and arson</td>\n",
       "      <td>26202</td>\n",
       "    </tr>\n",
       "    <tr>\n",
       "      <th>3</th>\n",
       "      <td>31/03/2003</td>\n",
       "      <td>Avon and Somerset</td>\n",
       "      <td>South West</td>\n",
       "      <td>Death or serious injury caused by illegal driving</td>\n",
       "      <td>2</td>\n",
       "    </tr>\n",
       "    <tr>\n",
       "      <th>4</th>\n",
       "      <td>31/03/2003</td>\n",
       "      <td>Avon and Somerset</td>\n",
       "      <td>South West</td>\n",
       "      <td>Domestic burglary</td>\n",
       "      <td>14561</td>\n",
       "    </tr>\n",
       "  </tbody>\n",
       "</table>\n",
       "</div>"
      ],
      "text/plain": [
       "  12 months ending                PFA      Region  \\\n",
       "0       31/03/2003  Avon and Somerset  South West   \n",
       "1       31/03/2003  Avon and Somerset  South West   \n",
       "2       31/03/2003  Avon and Somerset  South West   \n",
       "3       31/03/2003  Avon and Somerset  South West   \n",
       "4       31/03/2003  Avon and Somerset  South West   \n",
       "\n",
       "                                             Offence  \\\n",
       "0                           All other theft offences   \n",
       "1                                      Bicycle theft   \n",
       "2                          Criminal damage and arson   \n",
       "3  Death or serious injury caused by illegal driving   \n",
       "4                                  Domestic burglary   \n",
       "\n",
       "   Rolling year total number of offences  \n",
       "0                                  25959  \n",
       "1                                   3090  \n",
       "2                                  26202  \n",
       "3                                      2  \n",
       "4                                  14561  "
      ]
     },
     "execution_count": 11,
     "metadata": {},
     "output_type": "execute_result"
    }
   ],
   "source": [
    "crime.limit(5).toPandas()"
   ]
  },
  {
   "cell_type": "code",
   "execution_count": 12,
   "id": "continued-indonesia",
   "metadata": {},
   "outputs": [],
   "source": [
    "df = crime.withColumnRenamed(\"Rolling year total number of offences\", \"Count\")"
   ]
  },
  {
   "cell_type": "code",
   "execution_count": 13,
   "id": "confidential-hearts",
   "metadata": {},
   "outputs": [
    {
     "name": "stdout",
     "output_type": "stream",
     "text": [
      "root\n",
      " |-- 12 months ending: string (nullable = true)\n",
      " |-- PFA: string (nullable = true)\n",
      " |-- Region: string (nullable = true)\n",
      " |-- Offence: string (nullable = true)\n",
      " |-- Count: integer (nullable = true)\n",
      "\n"
     ]
    }
   ],
   "source": [
    "df.printSchema()"
   ]
  },
  {
   "cell_type": "code",
   "execution_count": 14,
   "id": "progressive-foundation",
   "metadata": {},
   "outputs": [],
   "source": [
    "df.createOrReplaceTempView(\"tempview\")"
   ]
  },
  {
   "cell_type": "code",
   "execution_count": 15,
   "id": "reverse-depression",
   "metadata": {},
   "outputs": [
    {
     "data": {
      "text/html": [
       "<div>\n",
       "<style scoped>\n",
       "    .dataframe tbody tr th:only-of-type {\n",
       "        vertical-align: middle;\n",
       "    }\n",
       "\n",
       "    .dataframe tbody tr th {\n",
       "        vertical-align: top;\n",
       "    }\n",
       "\n",
       "    .dataframe thead th {\n",
       "        text-align: right;\n",
       "    }\n",
       "</style>\n",
       "<table border=\"1\" class=\"dataframe\">\n",
       "  <thead>\n",
       "    <tr style=\"text-align: right;\">\n",
       "      <th></th>\n",
       "      <th>12 months ending</th>\n",
       "      <th>PFA</th>\n",
       "      <th>Region</th>\n",
       "      <th>Offence</th>\n",
       "      <th>Count</th>\n",
       "    </tr>\n",
       "  </thead>\n",
       "  <tbody>\n",
       "    <tr>\n",
       "      <th>0</th>\n",
       "      <td>31/03/2003</td>\n",
       "      <td>Avon and Somerset</td>\n",
       "      <td>South West</td>\n",
       "      <td>All other theft offences</td>\n",
       "      <td>25959</td>\n",
       "    </tr>\n",
       "    <tr>\n",
       "      <th>1</th>\n",
       "      <td>31/03/2003</td>\n",
       "      <td>Avon and Somerset</td>\n",
       "      <td>South West</td>\n",
       "      <td>Bicycle theft</td>\n",
       "      <td>3090</td>\n",
       "    </tr>\n",
       "    <tr>\n",
       "      <th>2</th>\n",
       "      <td>31/03/2003</td>\n",
       "      <td>Avon and Somerset</td>\n",
       "      <td>South West</td>\n",
       "      <td>Criminal damage and arson</td>\n",
       "      <td>26202</td>\n",
       "    </tr>\n",
       "    <tr>\n",
       "      <th>3</th>\n",
       "      <td>31/03/2003</td>\n",
       "      <td>Avon and Somerset</td>\n",
       "      <td>South West</td>\n",
       "      <td>Death or serious injury caused by illegal driving</td>\n",
       "      <td>2</td>\n",
       "    </tr>\n",
       "    <tr>\n",
       "      <th>4</th>\n",
       "      <td>31/03/2003</td>\n",
       "      <td>Avon and Somerset</td>\n",
       "      <td>South West</td>\n",
       "      <td>Domestic burglary</td>\n",
       "      <td>14561</td>\n",
       "    </tr>\n",
       "  </tbody>\n",
       "</table>\n",
       "</div>"
      ],
      "text/plain": [
       "  12 months ending                PFA      Region  \\\n",
       "0       31/03/2003  Avon and Somerset  South West   \n",
       "1       31/03/2003  Avon and Somerset  South West   \n",
       "2       31/03/2003  Avon and Somerset  South West   \n",
       "3       31/03/2003  Avon and Somerset  South West   \n",
       "4       31/03/2003  Avon and Somerset  South West   \n",
       "\n",
       "                                             Offence  Count  \n",
       "0                           All other theft offences  25959  \n",
       "1                                      Bicycle theft   3090  \n",
       "2                          Criminal damage and arson  26202  \n",
       "3  Death or serious injury caused by illegal driving      2  \n",
       "4                                  Domestic burglary  14561  "
      ]
     },
     "execution_count": 15,
     "metadata": {},
     "output_type": "execute_result"
    }
   ],
   "source": [
    "spark.sql(\"SELECT * FROM tempview\").limit(5).toPandas()"
   ]
  },
  {
   "cell_type": "code",
   "execution_count": 16,
   "id": "arctic-filing",
   "metadata": {},
   "outputs": [
    {
     "data": {
      "text/html": [
       "<div>\n",
       "<style scoped>\n",
       "    .dataframe tbody tr th:only-of-type {\n",
       "        vertical-align: middle;\n",
       "    }\n",
       "\n",
       "    .dataframe tbody tr th {\n",
       "        vertical-align: top;\n",
       "    }\n",
       "\n",
       "    .dataframe thead th {\n",
       "        text-align: right;\n",
       "    }\n",
       "</style>\n",
       "<table border=\"1\" class=\"dataframe\">\n",
       "  <thead>\n",
       "    <tr style=\"text-align: right;\">\n",
       "      <th></th>\n",
       "      <th>12 months ending</th>\n",
       "      <th>PFA</th>\n",
       "      <th>Region</th>\n",
       "      <th>Offence</th>\n",
       "      <th>Count</th>\n",
       "    </tr>\n",
       "  </thead>\n",
       "  <tbody>\n",
       "    <tr>\n",
       "      <th>0</th>\n",
       "      <td>31/03/2003</td>\n",
       "      <td>Avon and Somerset</td>\n",
       "      <td>South West</td>\n",
       "      <td>All other theft offences</td>\n",
       "      <td>25959</td>\n",
       "    </tr>\n",
       "    <tr>\n",
       "      <th>1</th>\n",
       "      <td>31/03/2003</td>\n",
       "      <td>Avon and Somerset</td>\n",
       "      <td>South West</td>\n",
       "      <td>Bicycle theft</td>\n",
       "      <td>3090</td>\n",
       "    </tr>\n",
       "    <tr>\n",
       "      <th>2</th>\n",
       "      <td>31/03/2003</td>\n",
       "      <td>Avon and Somerset</td>\n",
       "      <td>South West</td>\n",
       "      <td>Criminal damage and arson</td>\n",
       "      <td>26202</td>\n",
       "    </tr>\n",
       "    <tr>\n",
       "      <th>3</th>\n",
       "      <td>31/03/2003</td>\n",
       "      <td>Avon and Somerset</td>\n",
       "      <td>South West</td>\n",
       "      <td>Domestic burglary</td>\n",
       "      <td>14561</td>\n",
       "    </tr>\n",
       "    <tr>\n",
       "      <th>4</th>\n",
       "      <td>31/03/2003</td>\n",
       "      <td>Avon and Somerset</td>\n",
       "      <td>South West</td>\n",
       "      <td>Drug offences</td>\n",
       "      <td>2308</td>\n",
       "    </tr>\n",
       "  </tbody>\n",
       "</table>\n",
       "</div>"
      ],
      "text/plain": [
       "  12 months ending                PFA      Region                    Offence  \\\n",
       "0       31/03/2003  Avon and Somerset  South West   All other theft offences   \n",
       "1       31/03/2003  Avon and Somerset  South West              Bicycle theft   \n",
       "2       31/03/2003  Avon and Somerset  South West  Criminal damage and arson   \n",
       "3       31/03/2003  Avon and Somerset  South West          Domestic burglary   \n",
       "4       31/03/2003  Avon and Somerset  South West              Drug offences   \n",
       "\n",
       "   Count  \n",
       "0  25959  \n",
       "1   3090  \n",
       "2  26202  \n",
       "3  14561  \n",
       "4   2308  "
      ]
     },
     "execution_count": 16,
     "metadata": {},
     "output_type": "execute_result"
    }
   ],
   "source": [
    "spark.sql(\"SELECT * FROM tempview WHERE Count > 1000\").limit(5).toPandas()"
   ]
  },
  {
   "cell_type": "code",
   "execution_count": 18,
   "id": "macro-camera",
   "metadata": {},
   "outputs": [
    {
     "data": {
      "text/html": [
       "<div>\n",
       "<style scoped>\n",
       "    .dataframe tbody tr th:only-of-type {\n",
       "        vertical-align: middle;\n",
       "    }\n",
       "\n",
       "    .dataframe tbody tr th {\n",
       "        vertical-align: top;\n",
       "    }\n",
       "\n",
       "    .dataframe thead th {\n",
       "        text-align: right;\n",
       "    }\n",
       "</style>\n",
       "<table border=\"1\" class=\"dataframe\">\n",
       "  <thead>\n",
       "    <tr style=\"text-align: right;\">\n",
       "      <th></th>\n",
       "      <th>Region</th>\n",
       "      <th>Offence</th>\n",
       "    </tr>\n",
       "  </thead>\n",
       "  <tbody>\n",
       "    <tr>\n",
       "      <th>0</th>\n",
       "      <td>South West</td>\n",
       "      <td>All other theft offences</td>\n",
       "    </tr>\n",
       "    <tr>\n",
       "      <th>1</th>\n",
       "      <td>South West</td>\n",
       "      <td>Bicycle theft</td>\n",
       "    </tr>\n",
       "    <tr>\n",
       "      <th>2</th>\n",
       "      <td>South West</td>\n",
       "      <td>Criminal damage and arson</td>\n",
       "    </tr>\n",
       "    <tr>\n",
       "      <th>3</th>\n",
       "      <td>South West</td>\n",
       "      <td>Domestic burglary</td>\n",
       "    </tr>\n",
       "    <tr>\n",
       "      <th>4</th>\n",
       "      <td>South West</td>\n",
       "      <td>Drug offences</td>\n",
       "    </tr>\n",
       "  </tbody>\n",
       "</table>\n",
       "</div>"
      ],
      "text/plain": [
       "       Region                    Offence\n",
       "0  South West   All other theft offences\n",
       "1  South West              Bicycle theft\n",
       "2  South West  Criminal damage and arson\n",
       "3  South West          Domestic burglary\n",
       "4  South West              Drug offences"
      ]
     },
     "execution_count": 18,
     "metadata": {},
     "output_type": "execute_result"
    }
   ],
   "source": [
    "(\n",
    "    spark\n",
    "    .sql(\"SELECT Region, Offence FROM tempview WHERE Count > 1000\")\n",
    "    .limit(5)\n",
    "    .toPandas()\n",
    ")"
   ]
  },
  {
   "cell_type": "code",
   "execution_count": 19,
   "id": "written-tribe",
   "metadata": {},
   "outputs": [
    {
     "data": {
      "text/html": [
       "<div>\n",
       "<style scoped>\n",
       "    .dataframe tbody tr th:only-of-type {\n",
       "        vertical-align: middle;\n",
       "    }\n",
       "\n",
       "    .dataframe tbody tr th {\n",
       "        vertical-align: top;\n",
       "    }\n",
       "\n",
       "    .dataframe thead th {\n",
       "        text-align: right;\n",
       "    }\n",
       "</style>\n",
       "<table border=\"1\" class=\"dataframe\">\n",
       "  <thead>\n",
       "    <tr style=\"text-align: right;\">\n",
       "      <th></th>\n",
       "      <th>Region</th>\n",
       "      <th>Offence</th>\n",
       "    </tr>\n",
       "  </thead>\n",
       "  <tbody>\n",
       "    <tr>\n",
       "      <th>0</th>\n",
       "      <td>South West</td>\n",
       "      <td>All other theft offences</td>\n",
       "    </tr>\n",
       "    <tr>\n",
       "      <th>1</th>\n",
       "      <td>South West</td>\n",
       "      <td>Bicycle theft</td>\n",
       "    </tr>\n",
       "    <tr>\n",
       "      <th>2</th>\n",
       "      <td>South West</td>\n",
       "      <td>Criminal damage and arson</td>\n",
       "    </tr>\n",
       "    <tr>\n",
       "      <th>3</th>\n",
       "      <td>South West</td>\n",
       "      <td>Domestic burglary</td>\n",
       "    </tr>\n",
       "    <tr>\n",
       "      <th>4</th>\n",
       "      <td>South West</td>\n",
       "      <td>Drug offences</td>\n",
       "    </tr>\n",
       "  </tbody>\n",
       "</table>\n",
       "</div>"
      ],
      "text/plain": [
       "       Region                    Offence\n",
       "0  South West   All other theft offences\n",
       "1  South West              Bicycle theft\n",
       "2  South West  Criminal damage and arson\n",
       "3  South West          Domestic burglary\n",
       "4  South West              Drug offences"
      ]
     },
     "execution_count": 19,
     "metadata": {},
     "output_type": "execute_result"
    }
   ],
   "source": [
    "results = spark.sql(\"SELECT Region, Offence FROM tempview WHERE Count > 1000\")\n",
    "results.limit(5).toPandas()"
   ]
  },
  {
   "cell_type": "code",
   "execution_count": 20,
   "id": "wrapped-youth",
   "metadata": {},
   "outputs": [
    {
     "data": {
      "text/html": [
       "<div>\n",
       "<style scoped>\n",
       "    .dataframe tbody tr th:only-of-type {\n",
       "        vertical-align: middle;\n",
       "    }\n",
       "\n",
       "    .dataframe tbody tr th {\n",
       "        vertical-align: top;\n",
       "    }\n",
       "\n",
       "    .dataframe thead th {\n",
       "        text-align: right;\n",
       "    }\n",
       "</style>\n",
       "<table border=\"1\" class=\"dataframe\">\n",
       "  <thead>\n",
       "    <tr style=\"text-align: right;\">\n",
       "      <th></th>\n",
       "      <th>Region</th>\n",
       "      <th>Total</th>\n",
       "    </tr>\n",
       "  </thead>\n",
       "  <tbody>\n",
       "    <tr>\n",
       "      <th>0</th>\n",
       "      <td>Fraud: CIFAS</td>\n",
       "      <td>7678981</td>\n",
       "    </tr>\n",
       "    <tr>\n",
       "      <th>1</th>\n",
       "      <td>North West</td>\n",
       "      <td>30235732</td>\n",
       "    </tr>\n",
       "    <tr>\n",
       "      <th>2</th>\n",
       "      <td>British Transport Police</td>\n",
       "      <td>3029117</td>\n",
       "    </tr>\n",
       "    <tr>\n",
       "      <th>3</th>\n",
       "      <td>Wales</td>\n",
       "      <td>11137260</td>\n",
       "    </tr>\n",
       "    <tr>\n",
       "      <th>4</th>\n",
       "      <td>London</td>\n",
       "      <td>42691902</td>\n",
       "    </tr>\n",
       "    <tr>\n",
       "      <th>5</th>\n",
       "      <td>South East</td>\n",
       "      <td>30911995</td>\n",
       "    </tr>\n",
       "    <tr>\n",
       "      <th>6</th>\n",
       "      <td>Fraud: Action Fraud</td>\n",
       "      <td>5921984</td>\n",
       "    </tr>\n",
       "    <tr>\n",
       "      <th>7</th>\n",
       "      <td>Fraud: UK Finance</td>\n",
       "      <td>2925861</td>\n",
       "    </tr>\n",
       "    <tr>\n",
       "      <th>8</th>\n",
       "      <td>South West</td>\n",
       "      <td>17985880</td>\n",
       "    </tr>\n",
       "    <tr>\n",
       "      <th>9</th>\n",
       "      <td>East</td>\n",
       "      <td>19890612</td>\n",
       "    </tr>\n",
       "    <tr>\n",
       "      <th>10</th>\n",
       "      <td>East Midlands</td>\n",
       "      <td>17264827</td>\n",
       "    </tr>\n",
       "    <tr>\n",
       "      <th>11</th>\n",
       "      <td>Yorkshire and The Humber</td>\n",
       "      <td>23769180</td>\n",
       "    </tr>\n",
       "    <tr>\n",
       "      <th>12</th>\n",
       "      <td>West Midlands</td>\n",
       "      <td>21040955</td>\n",
       "    </tr>\n",
       "    <tr>\n",
       "      <th>13</th>\n",
       "      <td>North East</td>\n",
       "      <td>10236642</td>\n",
       "    </tr>\n",
       "  </tbody>\n",
       "</table>\n",
       "</div>"
      ],
      "text/plain": [
       "                      Region     Total\n",
       "0               Fraud: CIFAS   7678981\n",
       "1                 North West  30235732\n",
       "2   British Transport Police   3029117\n",
       "3                      Wales  11137260\n",
       "4                     London  42691902\n",
       "5                 South East  30911995\n",
       "6        Fraud: Action Fraud   5921984\n",
       "7          Fraud: UK Finance   2925861\n",
       "8                 South West  17985880\n",
       "9                       East  19890612\n",
       "10             East Midlands  17264827\n",
       "11  Yorkshire and The Humber  23769180\n",
       "12             West Midlands  21040955\n",
       "13                North East  10236642"
      ]
     },
     "execution_count": 20,
     "metadata": {},
     "output_type": "execute_result"
    }
   ],
   "source": [
    "(\n",
    "    spark\n",
    "    .sql(\"SELECT Region, sum(Count) AS Total FROM tempview GROUP BY Region\")\n",
    "    .toPandas()\n",
    ")"
   ]
  },
  {
   "cell_type": "markdown",
   "id": "after-brighton",
   "metadata": {},
   "source": [
    "## SQLTransformer"
   ]
  },
  {
   "cell_type": "code",
   "execution_count": 21,
   "id": "peripheral-perspective",
   "metadata": {},
   "outputs": [],
   "source": [
    "from pyspark.ml.feature import SQLTransformer"
   ]
  },
  {
   "cell_type": "code",
   "execution_count": 27,
   "id": "timely-export",
   "metadata": {},
   "outputs": [],
   "source": [
    "agent = SQLTransformer(statement=\"SELECT PFA, Region, Offence FROM __THIS__\")\n",
    "\n",
    "# NOTE: The Transformation markup **MUST BE** __THIS__"
   ]
  },
  {
   "cell_type": "code",
   "execution_count": 28,
   "id": "forbidden-rouge",
   "metadata": {},
   "outputs": [
    {
     "name": "stdout",
     "output_type": "stream",
     "text": [
      "+-----------------+----------+--------------------+\n",
      "|              PFA|    Region|             Offence|\n",
      "+-----------------+----------+--------------------+\n",
      "|Avon and Somerset|South West|All other theft o...|\n",
      "|Avon and Somerset|South West|       Bicycle theft|\n",
      "|Avon and Somerset|South West|Criminal damage a...|\n",
      "|Avon and Somerset|South West|Death or serious ...|\n",
      "|Avon and Somerset|South West|   Domestic burglary|\n",
      "+-----------------+----------+--------------------+\n",
      "only showing top 5 rows\n",
      "\n"
     ]
    }
   ],
   "source": [
    "agent.transform(df).show(5)"
   ]
  },
  {
   "cell_type": "code",
   "execution_count": 31,
   "id": "natural-powell",
   "metadata": {},
   "outputs": [],
   "source": [
    "agent = SQLTransformer(statement=\"SELECT Offence, SUM(Count) as Total FROM __THIS__ GROUP BY Offence\")"
   ]
  },
  {
   "cell_type": "code",
   "execution_count": 33,
   "id": "interim-singles",
   "metadata": {},
   "outputs": [
    {
     "name": "stdout",
     "output_type": "stream",
     "text": [
      "+--------------------+--------+\n",
      "|             Offence|   Total|\n",
      "+--------------------+--------+\n",
      "|Public order offe...|10925676|\n",
      "|       Bicycle theft| 5297006|\n",
      "|Residential burglary| 1671469|\n",
      "|Violence without ...|16590158|\n",
      "|All other theft o...|30979393|\n",
      "|             Robbery| 3788128|\n",
      "|               CIFAS| 7678981|\n",
      "|      Fraud offences| 2596554|\n",
      "|     Sexual offences| 4006741|\n",
      "|Criminal damage a...|37767463|\n",
      "|            Homicide|   34154|\n",
      "|Possession of wea...| 1555951|\n",
      "|          UK Finance| 2925861|\n",
      "|Stalking and hara...| 5587434|\n",
      "|Theft from the pe...| 5105153|\n",
      "|         Shoplifting|16781641|\n",
      "|       Drug offences| 9999435|\n",
      "|    Vehicle offences|26075670|\n",
      "|   Domestic burglary|11694636|\n",
      "|Miscellaneous cri...| 3143136|\n",
      "+--------------------+--------+\n",
      "only showing top 20 rows\n",
      "\n"
     ]
    }
   ],
   "source": [
    "agent.transform(df).show()"
   ]
  },
  {
   "cell_type": "code",
   "execution_count": 55,
   "id": "nutritional-country",
   "metadata": {},
   "outputs": [
    {
     "data": {
      "text/plain": [
       "244720928"
      ]
     },
     "execution_count": 55,
     "metadata": {},
     "output_type": "execute_result"
    }
   ],
   "source": [
    "agent = SQLTransformer(statement=\"SELECT SUM(Count) as Total FROM __THIS__\")\n",
    "\n",
    "res = agent.transform(df)\n",
    "\n",
    "total = res.collect()[0][0]\n",
    "\n"
   ]
  },
  {
   "cell_type": "code",
   "execution_count": 67,
   "id": "wanted-optics",
   "metadata": {},
   "outputs": [
    {
     "name": "stdout",
     "output_type": "stream",
     "text": [
      "+----------------+-----------------+----------+-------------------------------------------------+-----+-------+\n",
      "|12 months ending|PFA              |Region    |Offence                                          |Count|Percent|\n",
      "+----------------+-----------------+----------+-------------------------------------------------+-----+-------+\n",
      "|31/03/2003      |Avon and Somerset|South West|All other theft offences                         |25959|0.01   |\n",
      "|31/03/2003      |Avon and Somerset|South West|Bicycle theft                                    |3090 |0.0    |\n",
      "|31/03/2003      |Avon and Somerset|South West|Criminal damage and arson                        |26202|0.01   |\n",
      "|31/03/2003      |Avon and Somerset|South West|Death or serious injury caused by illegal driving|2    |0.0    |\n",
      "|31/03/2003      |Avon and Somerset|South West|Domestic burglary                                |14561|0.01   |\n",
      "|31/03/2003      |Avon and Somerset|South West|Drug offences                                    |2308 |0.0    |\n",
      "|31/03/2003      |Avon and Somerset|South West|Fraud offences                                   |5339 |0.0    |\n",
      "|31/03/2003      |Avon and Somerset|South West|Homicide                                         |19   |0.0    |\n",
      "|31/03/2003      |Avon and Somerset|South West|Miscellaneous crimes against society             |1597 |0.0    |\n",
      "|31/03/2003      |Avon and Somerset|South West|Non-domestic burglary                            |15621|0.01   |\n",
      "|31/03/2003      |Avon and Somerset|South West|Possession of weapons offences                   |735  |0.0    |\n",
      "|31/03/2003      |Avon and Somerset|South West|Public order offences                            |4025 |0.0    |\n",
      "|31/03/2003      |Avon and Somerset|South West|Robbery                                          |3504 |0.0    |\n",
      "|31/03/2003      |Avon and Somerset|South West|Sexual offences                                  |1737 |0.0    |\n",
      "|31/03/2003      |Avon and Somerset|South West|Shoplifting                                      |8410 |0.0    |\n",
      "|31/03/2003      |Avon and Somerset|South West|Stalking and harassment                          |740  |0.0    |\n",
      "|31/03/2003      |Avon and Somerset|South West|Theft from the person                            |2554 |0.0    |\n",
      "|31/03/2003      |Avon and Somerset|South West|Vehicle offences                                 |41781|0.02   |\n",
      "|31/03/2003      |Avon and Somerset|South West|Violence with injury                             |8565 |0.0    |\n",
      "|31/03/2003      |Avon and Somerset|South West|Violence without injury                          |7117 |0.0    |\n",
      "+----------------+-----------------+----------+-------------------------------------------------+-----+-------+\n",
      "only showing top 20 rows\n",
      "\n"
     ]
    }
   ],
   "source": [
    "from pyspark.sql.functions import expr\n",
    "\n",
    "df.withColumn(\"Percent\", expr(f\"round((count/{total})*100, 2)\")).show(truncate=False)"
   ]
  },
  {
   "cell_type": "code",
   "execution_count": 68,
   "id": "closed-friendly",
   "metadata": {},
   "outputs": [
    {
     "name": "stdout",
     "output_type": "stream",
     "text": [
      "+----------------+-----------------+----------+-------------------------------------------------+-----+-------+\n",
      "|12 months ending|PFA              |Region    |Offence                                          |Count|Percent|\n",
      "+----------------+-----------------+----------+-------------------------------------------------+-----+-------+\n",
      "|31/03/2003      |Avon and Somerset|South West|All other theft offences                         |25959|0.01   |\n",
      "|31/03/2003      |Avon and Somerset|South West|Bicycle theft                                    |3090 |0.0    |\n",
      "|31/03/2003      |Avon and Somerset|South West|Criminal damage and arson                        |26202|0.01   |\n",
      "|31/03/2003      |Avon and Somerset|South West|Death or serious injury caused by illegal driving|2    |0.0    |\n",
      "|31/03/2003      |Avon and Somerset|South West|Domestic burglary                                |14561|0.01   |\n",
      "|31/03/2003      |Avon and Somerset|South West|Drug offences                                    |2308 |0.0    |\n",
      "|31/03/2003      |Avon and Somerset|South West|Fraud offences                                   |5339 |0.0    |\n",
      "|31/03/2003      |Avon and Somerset|South West|Homicide                                         |19   |0.0    |\n",
      "|31/03/2003      |Avon and Somerset|South West|Miscellaneous crimes against society             |1597 |0.0    |\n",
      "|31/03/2003      |Avon and Somerset|South West|Non-domestic burglary                            |15621|0.01   |\n",
      "|31/03/2003      |Avon and Somerset|South West|Possession of weapons offences                   |735  |0.0    |\n",
      "|31/03/2003      |Avon and Somerset|South West|Public order offences                            |4025 |0.0    |\n",
      "|31/03/2003      |Avon and Somerset|South West|Robbery                                          |3504 |0.0    |\n",
      "|31/03/2003      |Avon and Somerset|South West|Sexual offences                                  |1737 |0.0    |\n",
      "|31/03/2003      |Avon and Somerset|South West|Shoplifting                                      |8410 |0.0    |\n",
      "|31/03/2003      |Avon and Somerset|South West|Stalking and harassment                          |740  |0.0    |\n",
      "|31/03/2003      |Avon and Somerset|South West|Theft from the person                            |2554 |0.0    |\n",
      "|31/03/2003      |Avon and Somerset|South West|Vehicle offences                                 |41781|0.02   |\n",
      "|31/03/2003      |Avon and Somerset|South West|Violence with injury                             |8565 |0.0    |\n",
      "|31/03/2003      |Avon and Somerset|South West|Violence without injury                          |7117 |0.0    |\n",
      "+----------------+-----------------+----------+-------------------------------------------------+-----+-------+\n",
      "only showing top 20 rows\n",
      "\n"
     ]
    }
   ],
   "source": [
    "df.select(\"*\", expr(f\"round((count/{total})*100, 2) as Percent\")).show(truncate=False)"
   ]
  },
  {
   "cell_type": "code",
   "execution_count": 70,
   "id": "solved-honolulu",
   "metadata": {},
   "outputs": [
    {
     "name": "stdout",
     "output_type": "stream",
     "text": [
      "+----------------+-----------------+----------+-------------------------------------------------+-----+-------+\n",
      "|12 months ending|PFA              |Region    |Offence                                          |Count|Percent|\n",
      "+----------------+-----------------+----------+-------------------------------------------------+-----+-------+\n",
      "|31/03/2003      |Avon and Somerset|South West|All other theft offences                         |25959|0.01   |\n",
      "|31/03/2003      |Avon and Somerset|South West|Bicycle theft                                    |3090 |0.0    |\n",
      "|31/03/2003      |Avon and Somerset|South West|Criminal damage and arson                        |26202|0.01   |\n",
      "|31/03/2003      |Avon and Somerset|South West|Death or serious injury caused by illegal driving|2    |0.0    |\n",
      "|31/03/2003      |Avon and Somerset|South West|Domestic burglary                                |14561|0.01   |\n",
      "|31/03/2003      |Avon and Somerset|South West|Drug offences                                    |2308 |0.0    |\n",
      "|31/03/2003      |Avon and Somerset|South West|Fraud offences                                   |5339 |0.0    |\n",
      "|31/03/2003      |Avon and Somerset|South West|Homicide                                         |19   |0.0    |\n",
      "|31/03/2003      |Avon and Somerset|South West|Miscellaneous crimes against society             |1597 |0.0    |\n",
      "|31/03/2003      |Avon and Somerset|South West|Non-domestic burglary                            |15621|0.01   |\n",
      "|31/03/2003      |Avon and Somerset|South West|Possession of weapons offences                   |735  |0.0    |\n",
      "|31/03/2003      |Avon and Somerset|South West|Public order offences                            |4025 |0.0    |\n",
      "|31/03/2003      |Avon and Somerset|South West|Robbery                                          |3504 |0.0    |\n",
      "|31/03/2003      |Avon and Somerset|South West|Sexual offences                                  |1737 |0.0    |\n",
      "|31/03/2003      |Avon and Somerset|South West|Shoplifting                                      |8410 |0.0    |\n",
      "|31/03/2003      |Avon and Somerset|South West|Stalking and harassment                          |740  |0.0    |\n",
      "|31/03/2003      |Avon and Somerset|South West|Theft from the person                            |2554 |0.0    |\n",
      "|31/03/2003      |Avon and Somerset|South West|Vehicle offences                                 |41781|0.02   |\n",
      "|31/03/2003      |Avon and Somerset|South West|Violence with injury                             |8565 |0.0    |\n",
      "|31/03/2003      |Avon and Somerset|South West|Violence without injury                          |7117 |0.0    |\n",
      "+----------------+-----------------+----------+-------------------------------------------------+-----+-------+\n",
      "only showing top 20 rows\n",
      "\n"
     ]
    }
   ],
   "source": [
    "df.selectExpr(\"*\", f\"round((count/{total})*100, 2) as Percent\").show(truncate=False)"
   ]
  },
  {
   "cell_type": "code",
   "execution_count": null,
   "id": "polar-mountain",
   "metadata": {},
   "outputs": [],
   "source": []
  }
 ],
 "metadata": {
  "kernelspec": {
   "display_name": "Python 3",
   "language": "python",
   "name": "python3"
  },
  "language_info": {
   "codemirror_mode": {
    "name": "ipython",
    "version": 3
   },
   "file_extension": ".py",
   "mimetype": "text/x-python",
   "name": "python",
   "nbconvert_exporter": "python",
   "pygments_lexer": "ipython3",
   "version": "3.8.5"
  }
 },
 "nbformat": 4,
 "nbformat_minor": 5
}
