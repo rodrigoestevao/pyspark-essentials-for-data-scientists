{
 "cells": [
  {
   "cell_type": "markdown",
   "id": "blind-beverage",
   "metadata": {},
   "source": [
    "# Manipulating Data in DataFrames"
   ]
  },
  {
   "cell_type": "code",
   "execution_count": 5,
   "id": "disciplinary-english",
   "metadata": {},
   "outputs": [],
   "source": [
    "%config Completer.use_jedi = False\n",
    "\n",
    "import os\n",
    "import sys\n",
    "import shutil\n",
    "\n",
    "BASE_DIR = os.path.realpath(os.path.join(os.getcwd(), \"..\", \"..\"))\n",
    "\n",
    "if not BASE_DIR in sys.path:\n",
    "    sys.path.append(BASE_DIR)\n",
    "    \n",
    "from utils import extract_zip\n",
    "\n",
    "DATASETS_PATH = \"datasets/\""
   ]
  },
  {
   "cell_type": "code",
   "execution_count": 16,
   "id": "applied-camera",
   "metadata": {},
   "outputs": [
    {
     "data": {
      "text/html": [
       "\n",
       "            <div>\n",
       "                <p><b>SparkSession - in-memory</b></p>\n",
       "                \n",
       "        <div>\n",
       "            <p><b>SparkContext</b></p>\n",
       "\n",
       "            <p><a href=\"http://192.168.0.144:4042\">Spark UI</a></p>\n",
       "\n",
       "            <dl>\n",
       "              <dt>Version</dt>\n",
       "                <dd><code>v3.0.2</code></dd>\n",
       "              <dt>Master</dt>\n",
       "                <dd><code>local[*]</code></dd>\n",
       "              <dt>AppName</dt>\n",
       "                <dd><code>Manipulate</code></dd>\n",
       "            </dl>\n",
       "        </div>\n",
       "        \n",
       "            </div>\n",
       "        "
      ],
      "text/plain": [
       "<pyspark.sql.session.SparkSession at 0x7fa9c18c0820>"
      ]
     },
     "execution_count": 16,
     "metadata": {},
     "output_type": "execute_result"
    }
   ],
   "source": [
    "import pyspark\n",
    "\n",
    "from pyspark.sql import SparkSession\n",
    "from pyspark.sql.functions import *\n",
    "from pyspark.sql.types import *\n",
    "\n",
    "spark = SparkSession.builder.appName(\"Manipulate\").getOrCreate()\n",
    "spark"
   ]
  },
  {
   "cell_type": "code",
   "execution_count": 7,
   "id": "altered-attention",
   "metadata": {},
   "outputs": [
    {
     "data": {
      "text/plain": [
       "'/tmp/aaaaa-islp6bsa/youtubevideos.csv'"
      ]
     },
     "execution_count": 7,
     "metadata": {},
     "output_type": "execute_result"
    }
   ],
   "source": [
    "data_file = extract_zip(\n",
    "    zip_file=os.path.join(DATASETS_PATH, \"youtubevideos.csv.zip\"),\n",
    "    member=\"youtubevideos.csv\"\n",
    ")\n",
    "\n",
    "data_file"
   ]
  },
  {
   "cell_type": "code",
   "execution_count": 8,
   "id": "destroyed-diesel",
   "metadata": {},
   "outputs": [
    {
     "name": "stdout",
     "output_type": "stream",
     "text": [
      "root\n",
      " |-- video_id: string (nullable = true)\n",
      " |-- trending_date: string (nullable = true)\n",
      " |-- title: string (nullable = true)\n",
      " |-- channel_title: string (nullable = true)\n",
      " |-- category_id: string (nullable = true)\n",
      " |-- publish_time: string (nullable = true)\n",
      " |-- tags: string (nullable = true)\n",
      " |-- views: string (nullable = true)\n",
      " |-- likes: string (nullable = true)\n",
      " |-- dislikes: string (nullable = true)\n",
      " |-- comment_count: string (nullable = true)\n",
      " |-- thumbnail_link: string (nullable = true)\n",
      " |-- comments_disabled: string (nullable = true)\n",
      " |-- ratings_disabled: string (nullable = true)\n",
      " |-- video_error_or_removed: string (nullable = true)\n",
      " |-- description: string (nullable = true)\n",
      "\n"
     ]
    }
   ],
   "source": [
    "videos = spark.read.csv(data_file, inferSchema=True, header=True)\n",
    "videos.printSchema()"
   ]
  },
  {
   "cell_type": "code",
   "execution_count": 11,
   "id": "published-metro",
   "metadata": {},
   "outputs": [
    {
     "data": {
      "text/html": [
       "<div>\n",
       "<style scoped>\n",
       "    .dataframe tbody tr th:only-of-type {\n",
       "        vertical-align: middle;\n",
       "    }\n",
       "\n",
       "    .dataframe tbody tr th {\n",
       "        vertical-align: top;\n",
       "    }\n",
       "\n",
       "    .dataframe thead th {\n",
       "        text-align: right;\n",
       "    }\n",
       "</style>\n",
       "<table border=\"1\" class=\"dataframe\">\n",
       "  <thead>\n",
       "    <tr style=\"text-align: right;\">\n",
       "      <th></th>\n",
       "      <th>video_id</th>\n",
       "      <th>trending_date</th>\n",
       "      <th>title</th>\n",
       "      <th>channel_title</th>\n",
       "      <th>category_id</th>\n",
       "      <th>publish_time</th>\n",
       "      <th>tags</th>\n",
       "      <th>views</th>\n",
       "      <th>likes</th>\n",
       "      <th>dislikes</th>\n",
       "      <th>comment_count</th>\n",
       "      <th>thumbnail_link</th>\n",
       "      <th>comments_disabled</th>\n",
       "      <th>ratings_disabled</th>\n",
       "      <th>video_error_or_removed</th>\n",
       "      <th>description</th>\n",
       "    </tr>\n",
       "  </thead>\n",
       "  <tbody>\n",
       "    <tr>\n",
       "      <th>0</th>\n",
       "      <td>2kyS6SvSYSE</td>\n",
       "      <td>17.14.11</td>\n",
       "      <td>WE WANT TO TALK ABOUT OUR MARRIAGE</td>\n",
       "      <td>CaseyNeistat</td>\n",
       "      <td>22</td>\n",
       "      <td>2017-11-13T17:13:01.000Z</td>\n",
       "      <td>SHANtell martin</td>\n",
       "      <td>748374</td>\n",
       "      <td>57527</td>\n",
       "      <td>2966</td>\n",
       "      <td>15954</td>\n",
       "      <td>https://i.ytimg.com/vi/2kyS6SvSYSE/default.jpg</td>\n",
       "      <td>False</td>\n",
       "      <td>False</td>\n",
       "      <td>False</td>\n",
       "      <td>SHANTELL'S CHANNEL - https://www.youtube.com/s...</td>\n",
       "    </tr>\n",
       "    <tr>\n",
       "      <th>1</th>\n",
       "      <td>1ZAPwfrtAFY</td>\n",
       "      <td>17.14.11</td>\n",
       "      <td>The Trump Presidency: Last Week Tonight with J...</td>\n",
       "      <td>LastWeekTonight</td>\n",
       "      <td>24</td>\n",
       "      <td>2017-11-13T07:30:00.000Z</td>\n",
       "      <td>\"last week tonight trump presidency\"|\"last wee...</td>\n",
       "      <td>2418783</td>\n",
       "      <td>97185</td>\n",
       "      <td>6146</td>\n",
       "      <td>12703</td>\n",
       "      <td>https://i.ytimg.com/vi/1ZAPwfrtAFY/default.jpg</td>\n",
       "      <td>False</td>\n",
       "      <td>False</td>\n",
       "      <td>False</td>\n",
       "      <td>One year after the presidential election, John...</td>\n",
       "    </tr>\n",
       "    <tr>\n",
       "      <th>2</th>\n",
       "      <td>5qpjK5DgCt4</td>\n",
       "      <td>17.14.11</td>\n",
       "      <td>Racist Superman | Rudy Mancuso, King Bach &amp; Le...</td>\n",
       "      <td>Rudy Mancuso</td>\n",
       "      <td>23</td>\n",
       "      <td>2017-11-12T19:05:24.000Z</td>\n",
       "      <td>\"racist superman\"|\"rudy\"|\"mancuso\"|\"king\"|\"bac...</td>\n",
       "      <td>3191434</td>\n",
       "      <td>146033</td>\n",
       "      <td>5339</td>\n",
       "      <td>8181</td>\n",
       "      <td>https://i.ytimg.com/vi/5qpjK5DgCt4/default.jpg</td>\n",
       "      <td>False</td>\n",
       "      <td>False</td>\n",
       "      <td>False</td>\n",
       "      <td>WATCH MY PREVIOUS VIDEO ▶ \\n\\nSUBSCRIBE ► http...</td>\n",
       "    </tr>\n",
       "    <tr>\n",
       "      <th>3</th>\n",
       "      <td>puqaWrEC7tY</td>\n",
       "      <td>17.14.11</td>\n",
       "      <td>Nickelback Lyrics: Real or Fake?</td>\n",
       "      <td>Good Mythical Morning</td>\n",
       "      <td>24</td>\n",
       "      <td>2017-11-13T11:00:04.000Z</td>\n",
       "      <td>\"rhett and link\"|\"gmm\"|\"good mythical morning\"...</td>\n",
       "      <td>343168</td>\n",
       "      <td>10172</td>\n",
       "      <td>666</td>\n",
       "      <td>2146</td>\n",
       "      <td>https://i.ytimg.com/vi/puqaWrEC7tY/default.jpg</td>\n",
       "      <td>False</td>\n",
       "      <td>False</td>\n",
       "      <td>False</td>\n",
       "      <td>Today we find out if Link is a Nickelback amat...</td>\n",
       "    </tr>\n",
       "    <tr>\n",
       "      <th>4</th>\n",
       "      <td>d380meD0W0M</td>\n",
       "      <td>17.14.11</td>\n",
       "      <td>I Dare You: GOING BALD!?</td>\n",
       "      <td>nigahiga</td>\n",
       "      <td>24</td>\n",
       "      <td>2017-11-12T18:01:41.000Z</td>\n",
       "      <td>\"ryan\"|\"higa\"|\"higatv\"|\"nigahiga\"|\"i dare you\"...</td>\n",
       "      <td>2095731</td>\n",
       "      <td>132235</td>\n",
       "      <td>1989</td>\n",
       "      <td>17518</td>\n",
       "      <td>https://i.ytimg.com/vi/d380meD0W0M/default.jpg</td>\n",
       "      <td>False</td>\n",
       "      <td>False</td>\n",
       "      <td>False</td>\n",
       "      <td>I know it's been a while since we did this sho...</td>\n",
       "    </tr>\n",
       "  </tbody>\n",
       "</table>\n",
       "</div>"
      ],
      "text/plain": [
       "      video_id trending_date  \\\n",
       "0  2kyS6SvSYSE      17.14.11   \n",
       "1  1ZAPwfrtAFY      17.14.11   \n",
       "2  5qpjK5DgCt4      17.14.11   \n",
       "3  puqaWrEC7tY      17.14.11   \n",
       "4  d380meD0W0M      17.14.11   \n",
       "\n",
       "                                               title          channel_title  \\\n",
       "0                 WE WANT TO TALK ABOUT OUR MARRIAGE           CaseyNeistat   \n",
       "1  The Trump Presidency: Last Week Tonight with J...        LastWeekTonight   \n",
       "2  Racist Superman | Rudy Mancuso, King Bach & Le...           Rudy Mancuso   \n",
       "3                   Nickelback Lyrics: Real or Fake?  Good Mythical Morning   \n",
       "4                           I Dare You: GOING BALD!?               nigahiga   \n",
       "\n",
       "  category_id              publish_time  \\\n",
       "0          22  2017-11-13T17:13:01.000Z   \n",
       "1          24  2017-11-13T07:30:00.000Z   \n",
       "2          23  2017-11-12T19:05:24.000Z   \n",
       "3          24  2017-11-13T11:00:04.000Z   \n",
       "4          24  2017-11-12T18:01:41.000Z   \n",
       "\n",
       "                                                tags    views   likes  \\\n",
       "0                                    SHANtell martin   748374   57527   \n",
       "1  \"last week tonight trump presidency\"|\"last wee...  2418783   97185   \n",
       "2  \"racist superman\"|\"rudy\"|\"mancuso\"|\"king\"|\"bac...  3191434  146033   \n",
       "3  \"rhett and link\"|\"gmm\"|\"good mythical morning\"...   343168   10172   \n",
       "4  \"ryan\"|\"higa\"|\"higatv\"|\"nigahiga\"|\"i dare you\"...  2095731  132235   \n",
       "\n",
       "  dislikes comment_count                                  thumbnail_link  \\\n",
       "0     2966         15954  https://i.ytimg.com/vi/2kyS6SvSYSE/default.jpg   \n",
       "1     6146         12703  https://i.ytimg.com/vi/1ZAPwfrtAFY/default.jpg   \n",
       "2     5339          8181  https://i.ytimg.com/vi/5qpjK5DgCt4/default.jpg   \n",
       "3      666          2146  https://i.ytimg.com/vi/puqaWrEC7tY/default.jpg   \n",
       "4     1989         17518  https://i.ytimg.com/vi/d380meD0W0M/default.jpg   \n",
       "\n",
       "  comments_disabled ratings_disabled video_error_or_removed  \\\n",
       "0             False            False                  False   \n",
       "1             False            False                  False   \n",
       "2             False            False                  False   \n",
       "3             False            False                  False   \n",
       "4             False            False                  False   \n",
       "\n",
       "                                         description  \n",
       "0  SHANTELL'S CHANNEL - https://www.youtube.com/s...  \n",
       "1  One year after the presidential election, John...  \n",
       "2  WATCH MY PREVIOUS VIDEO ▶ \\n\\nSUBSCRIBE ► http...  \n",
       "3  Today we find out if Link is a Nickelback amat...  \n",
       "4  I know it's been a while since we did this sho...  "
      ]
     },
     "execution_count": 11,
     "metadata": {},
     "output_type": "execute_result"
    }
   ],
   "source": [
    "videos.limit(5).toPandas()"
   ]
  },
  {
   "cell_type": "markdown",
   "id": "governing-tuning",
   "metadata": {},
   "source": [
    "__Available types:__  \n",
    "\n",
    "* ByteType\n",
    "* ShortType\n",
    "* IntegerType\n",
    "* LongType\n",
    "* FloatType\n",
    "* DoubleType\n",
    "* DecimalType\n",
    "* StringType\n",
    "* BinaryType\n",
    "* BooleanType\n",
    "* TimestampType\n",
    "* DateType\n",
    "* ArrayType\n",
    "* MapType\n",
    "* StructType"
   ]
  },
  {
   "cell_type": "code",
   "execution_count": 13,
   "id": "hollow-lyric",
   "metadata": {},
   "outputs": [
    {
     "name": "stdout",
     "output_type": "stream",
     "text": [
      "root\n",
      " |-- video_id: string (nullable = true)\n",
      " |-- trending_date: string (nullable = true)\n",
      " |-- title: string (nullable = true)\n",
      " |-- channel_title: string (nullable = true)\n",
      " |-- category_id: string (nullable = true)\n",
      " |-- publish_time: string (nullable = true)\n",
      " |-- tags: string (nullable = true)\n",
      " |-- views: string (nullable = true)\n",
      " |-- likes: string (nullable = true)\n",
      " |-- dislikes: string (nullable = true)\n",
      " |-- comment_count: string (nullable = true)\n",
      " |-- thumbnail_link: string (nullable = true)\n",
      " |-- comments_disabled: string (nullable = true)\n",
      " |-- ratings_disabled: string (nullable = true)\n",
      " |-- video_error_or_removed: string (nullable = true)\n",
      " |-- description: string (nullable = true)\n",
      "\n"
     ]
    }
   ],
   "source": [
    "videos.printSchema()"
   ]
  },
  {
   "cell_type": "code",
   "execution_count": 59,
   "id": "perfect-database",
   "metadata": {},
   "outputs": [],
   "source": [
    "df = (\n",
    "    videos\n",
    "    .withColumn(\"views\", videos[\"views\"].cast(IntegerType()))\n",
    "    .withColumn(\"likes\", videos[\"likes\"].cast(IntegerType()))\n",
    "    .withColumn(\"dislikes\", videos[\"dislikes\"].cast(IntegerType()))\n",
    "    .withColumn(\"trending_date\", to_date(videos[\"trending_date\"], \"yy.dd.mm\"))\n",
    "    .withColumn(\"publish_time\", to_timestamp(col(\"publish_time\")))\n",
    ")"
   ]
  },
  {
   "cell_type": "code",
   "execution_count": 46,
   "id": "existing-brass",
   "metadata": {},
   "outputs": [
    {
     "name": "stdout",
     "output_type": "stream",
     "text": [
      "root\n",
      " |-- video_id: string (nullable = true)\n",
      " |-- trending_date: date (nullable = true)\n",
      " |-- title: string (nullable = true)\n",
      " |-- channel_title: string (nullable = true)\n",
      " |-- category_id: string (nullable = true)\n",
      " |-- publish_time: timestamp (nullable = true)\n",
      " |-- tags: string (nullable = true)\n",
      " |-- views: integer (nullable = true)\n",
      " |-- likes: integer (nullable = true)\n",
      " |-- dislikes: integer (nullable = true)\n",
      " |-- comment_count: string (nullable = true)\n",
      " |-- thumbnail_link: string (nullable = true)\n",
      " |-- comments_disabled: string (nullable = true)\n",
      " |-- ratings_disabled: string (nullable = true)\n",
      " |-- video_error_or_removed: string (nullable = true)\n",
      " |-- description: string (nullable = true)\n",
      "\n"
     ]
    }
   ],
   "source": [
    "df.printSchema()"
   ]
  },
  {
   "cell_type": "code",
   "execution_count": 47,
   "id": "advisory-dimension",
   "metadata": {},
   "outputs": [
    {
     "data": {
      "text/html": [
       "<div>\n",
       "<style scoped>\n",
       "    .dataframe tbody tr th:only-of-type {\n",
       "        vertical-align: middle;\n",
       "    }\n",
       "\n",
       "    .dataframe tbody tr th {\n",
       "        vertical-align: top;\n",
       "    }\n",
       "\n",
       "    .dataframe thead th {\n",
       "        text-align: right;\n",
       "    }\n",
       "</style>\n",
       "<table border=\"1\" class=\"dataframe\">\n",
       "  <thead>\n",
       "    <tr style=\"text-align: right;\">\n",
       "      <th></th>\n",
       "      <th>video_id</th>\n",
       "      <th>trending_date</th>\n",
       "      <th>title</th>\n",
       "      <th>channel_title</th>\n",
       "      <th>category_id</th>\n",
       "      <th>publish_time</th>\n",
       "      <th>tags</th>\n",
       "      <th>views</th>\n",
       "      <th>likes</th>\n",
       "      <th>dislikes</th>\n",
       "      <th>comment_count</th>\n",
       "      <th>thumbnail_link</th>\n",
       "      <th>comments_disabled</th>\n",
       "      <th>ratings_disabled</th>\n",
       "      <th>video_error_or_removed</th>\n",
       "      <th>description</th>\n",
       "    </tr>\n",
       "  </thead>\n",
       "  <tbody>\n",
       "    <tr>\n",
       "      <th>0</th>\n",
       "      <td>2kyS6SvSYSE</td>\n",
       "      <td>2017-01-14</td>\n",
       "      <td>WE WANT TO TALK ABOUT OUR MARRIAGE</td>\n",
       "      <td>CaseyNeistat</td>\n",
       "      <td>22</td>\n",
       "      <td>2017-11-13 15:13:01</td>\n",
       "      <td>SHANtell martin</td>\n",
       "      <td>748374</td>\n",
       "      <td>57527</td>\n",
       "      <td>2966</td>\n",
       "      <td>15954</td>\n",
       "      <td>https://i.ytimg.com/vi/2kyS6SvSYSE/default.jpg</td>\n",
       "      <td>False</td>\n",
       "      <td>False</td>\n",
       "      <td>False</td>\n",
       "      <td>SHANTELL'S CHANNEL - https://www.youtube.com/s...</td>\n",
       "    </tr>\n",
       "    <tr>\n",
       "      <th>1</th>\n",
       "      <td>1ZAPwfrtAFY</td>\n",
       "      <td>2017-01-14</td>\n",
       "      <td>The Trump Presidency: Last Week Tonight with J...</td>\n",
       "      <td>LastWeekTonight</td>\n",
       "      <td>24</td>\n",
       "      <td>2017-11-13 05:30:00</td>\n",
       "      <td>\"last week tonight trump presidency\"|\"last wee...</td>\n",
       "      <td>2418783</td>\n",
       "      <td>97185</td>\n",
       "      <td>6146</td>\n",
       "      <td>12703</td>\n",
       "      <td>https://i.ytimg.com/vi/1ZAPwfrtAFY/default.jpg</td>\n",
       "      <td>False</td>\n",
       "      <td>False</td>\n",
       "      <td>False</td>\n",
       "      <td>One year after the presidential election, John...</td>\n",
       "    </tr>\n",
       "    <tr>\n",
       "      <th>2</th>\n",
       "      <td>5qpjK5DgCt4</td>\n",
       "      <td>2017-01-14</td>\n",
       "      <td>Racist Superman | Rudy Mancuso, King Bach &amp; Le...</td>\n",
       "      <td>Rudy Mancuso</td>\n",
       "      <td>23</td>\n",
       "      <td>2017-11-12 17:05:24</td>\n",
       "      <td>\"racist superman\"|\"rudy\"|\"mancuso\"|\"king\"|\"bac...</td>\n",
       "      <td>3191434</td>\n",
       "      <td>146033</td>\n",
       "      <td>5339</td>\n",
       "      <td>8181</td>\n",
       "      <td>https://i.ytimg.com/vi/5qpjK5DgCt4/default.jpg</td>\n",
       "      <td>False</td>\n",
       "      <td>False</td>\n",
       "      <td>False</td>\n",
       "      <td>WATCH MY PREVIOUS VIDEO ▶ \\n\\nSUBSCRIBE ► http...</td>\n",
       "    </tr>\n",
       "    <tr>\n",
       "      <th>3</th>\n",
       "      <td>puqaWrEC7tY</td>\n",
       "      <td>2017-01-14</td>\n",
       "      <td>Nickelback Lyrics: Real or Fake?</td>\n",
       "      <td>Good Mythical Morning</td>\n",
       "      <td>24</td>\n",
       "      <td>2017-11-13 09:00:04</td>\n",
       "      <td>\"rhett and link\"|\"gmm\"|\"good mythical morning\"...</td>\n",
       "      <td>343168</td>\n",
       "      <td>10172</td>\n",
       "      <td>666</td>\n",
       "      <td>2146</td>\n",
       "      <td>https://i.ytimg.com/vi/puqaWrEC7tY/default.jpg</td>\n",
       "      <td>False</td>\n",
       "      <td>False</td>\n",
       "      <td>False</td>\n",
       "      <td>Today we find out if Link is a Nickelback amat...</td>\n",
       "    </tr>\n",
       "    <tr>\n",
       "      <th>4</th>\n",
       "      <td>d380meD0W0M</td>\n",
       "      <td>2017-01-14</td>\n",
       "      <td>I Dare You: GOING BALD!?</td>\n",
       "      <td>nigahiga</td>\n",
       "      <td>24</td>\n",
       "      <td>2017-11-12 16:01:41</td>\n",
       "      <td>\"ryan\"|\"higa\"|\"higatv\"|\"nigahiga\"|\"i dare you\"...</td>\n",
       "      <td>2095731</td>\n",
       "      <td>132235</td>\n",
       "      <td>1989</td>\n",
       "      <td>17518</td>\n",
       "      <td>https://i.ytimg.com/vi/d380meD0W0M/default.jpg</td>\n",
       "      <td>False</td>\n",
       "      <td>False</td>\n",
       "      <td>False</td>\n",
       "      <td>I know it's been a while since we did this sho...</td>\n",
       "    </tr>\n",
       "  </tbody>\n",
       "</table>\n",
       "</div>"
      ],
      "text/plain": [
       "      video_id trending_date  \\\n",
       "0  2kyS6SvSYSE    2017-01-14   \n",
       "1  1ZAPwfrtAFY    2017-01-14   \n",
       "2  5qpjK5DgCt4    2017-01-14   \n",
       "3  puqaWrEC7tY    2017-01-14   \n",
       "4  d380meD0W0M    2017-01-14   \n",
       "\n",
       "                                               title          channel_title  \\\n",
       "0                 WE WANT TO TALK ABOUT OUR MARRIAGE           CaseyNeistat   \n",
       "1  The Trump Presidency: Last Week Tonight with J...        LastWeekTonight   \n",
       "2  Racist Superman | Rudy Mancuso, King Bach & Le...           Rudy Mancuso   \n",
       "3                   Nickelback Lyrics: Real or Fake?  Good Mythical Morning   \n",
       "4                           I Dare You: GOING BALD!?               nigahiga   \n",
       "\n",
       "  category_id        publish_time  \\\n",
       "0          22 2017-11-13 15:13:01   \n",
       "1          24 2017-11-13 05:30:00   \n",
       "2          23 2017-11-12 17:05:24   \n",
       "3          24 2017-11-13 09:00:04   \n",
       "4          24 2017-11-12 16:01:41   \n",
       "\n",
       "                                                tags    views   likes  \\\n",
       "0                                    SHANtell martin   748374   57527   \n",
       "1  \"last week tonight trump presidency\"|\"last wee...  2418783   97185   \n",
       "2  \"racist superman\"|\"rudy\"|\"mancuso\"|\"king\"|\"bac...  3191434  146033   \n",
       "3  \"rhett and link\"|\"gmm\"|\"good mythical morning\"...   343168   10172   \n",
       "4  \"ryan\"|\"higa\"|\"higatv\"|\"nigahiga\"|\"i dare you\"...  2095731  132235   \n",
       "\n",
       "   dislikes comment_count                                  thumbnail_link  \\\n",
       "0      2966         15954  https://i.ytimg.com/vi/2kyS6SvSYSE/default.jpg   \n",
       "1      6146         12703  https://i.ytimg.com/vi/1ZAPwfrtAFY/default.jpg   \n",
       "2      5339          8181  https://i.ytimg.com/vi/5qpjK5DgCt4/default.jpg   \n",
       "3       666          2146  https://i.ytimg.com/vi/puqaWrEC7tY/default.jpg   \n",
       "4      1989         17518  https://i.ytimg.com/vi/d380meD0W0M/default.jpg   \n",
       "\n",
       "  comments_disabled ratings_disabled video_error_or_removed  \\\n",
       "0             False            False                  False   \n",
       "1             False            False                  False   \n",
       "2             False            False                  False   \n",
       "3             False            False                  False   \n",
       "4             False            False                  False   \n",
       "\n",
       "                                         description  \n",
       "0  SHANTELL'S CHANNEL - https://www.youtube.com/s...  \n",
       "1  One year after the presidential election, John...  \n",
       "2  WATCH MY PREVIOUS VIDEO ▶ \\n\\nSUBSCRIBE ► http...  \n",
       "3  Today we find out if Link is a Nickelback amat...  \n",
       "4  I know it's been a while since we did this sho...  "
      ]
     },
     "execution_count": 47,
     "metadata": {},
     "output_type": "execute_result"
    }
   ],
   "source": [
    "df.limit(5).toPandas()"
   ]
  },
  {
   "cell_type": "markdown",
   "id": "plastic-title",
   "metadata": {},
   "source": [
    "__Translate Function__"
   ]
  },
  {
   "cell_type": "code",
   "execution_count": 51,
   "id": "registered-vulnerability",
   "metadata": {},
   "outputs": [
    {
     "name": "stdout",
     "output_type": "stream",
     "text": [
      "+------------------------+-----------------------+\n",
      "|publish_time            |translated             |\n",
      "+------------------------+-----------------------+\n",
      "|2017-11-13T17:13:01.000Z|2017-11-13 17:13:01.000|\n",
      "|2017-11-13T07:30:00.000Z|2017-11-13 07:30:00.000|\n",
      "|2017-11-12T19:05:24.000Z|2017-11-12 19:05:24.000|\n",
      "|2017-11-13T11:00:04.000Z|2017-11-13 11:00:04.000|\n",
      "|2017-11-12T18:01:41.000Z|2017-11-12 18:01:41.000|\n",
      "|2017-11-13T19:07:23.000Z|2017-11-13 19:07:23.000|\n",
      "|2017-11-12T05:37:17.000Z|2017-11-12 05:37:17.000|\n",
      "|2017-11-12T21:50:37.000Z|2017-11-12 21:50:37.000|\n",
      "|2017-11-13T14:00:23.000Z|2017-11-13 14:00:23.000|\n",
      "|2017-11-13T13:45:16.000Z|2017-11-13 13:45:16.000|\n",
      "|2017-11-13T02:05:26.000Z|2017-11-13 02:05:26.000|\n",
      "|2017-11-13T03:00:00.000Z|2017-11-13 03:00:00.000|\n",
      "|2017-11-13T17:00:00.000Z|2017-11-13 17:00:00.000|\n",
      "|2017-11-12T14:00:00.000Z|2017-11-12 14:00:00.000|\n",
      "|2017-11-12T18:30:01.000Z|2017-11-12 18:30:01.000|\n",
      "|2017-11-13T20:09:58.000Z|2017-11-13 20:09:58.000|\n",
      "|2017-11-12T17:00:05.000Z|2017-11-12 17:00:05.000|\n",
      "|2017-11-13T16:00:07.000Z|2017-11-13 16:00:07.000|\n",
      "|2017-11-13T15:30:17.000Z|2017-11-13 15:30:17.000|\n",
      "|2017-11-12T22:00:01.000Z|2017-11-12 22:00:01.000|\n",
      "+------------------------+-----------------------+\n",
      "only showing top 20 rows\n",
      "\n"
     ]
    }
   ],
   "source": [
    "(\n",
    "    videos\n",
    "    .select(\n",
    "        \"publish_time\",\n",
    "        translate(col(\"publish_time\"), \"TZ\", \" \").alias(\"translated\")\n",
    "    )\n",
    "    .show(truncate=False)\n",
    ")"
   ]
  },
  {
   "cell_type": "markdown",
   "id": "sufficient-divide",
   "metadata": {},
   "source": [
    "__Trim Function (RTrim + LTrim)__"
   ]
  },
  {
   "cell_type": "code",
   "execution_count": 60,
   "id": "metallic-opportunity",
   "metadata": {},
   "outputs": [
    {
     "name": "stdout",
     "output_type": "stream",
     "text": [
      "+--------------------------------------------------------------+\n",
      "|title                                                         |\n",
      "+--------------------------------------------------------------+\n",
      "|WE WANT TO TALK ABOUT OUR MARRIAGE                            |\n",
      "|The Trump Presidency: Last Week Tonight with John Oliver (HBO)|\n",
      "|Racist Superman | Rudy Mancuso, King Bach & Lele Pons         |\n",
      "|Nickelback Lyrics: Real or Fake?                              |\n",
      "+--------------------------------------------------------------+\n",
      "only showing top 4 rows\n",
      "\n"
     ]
    }
   ],
   "source": [
    "df.select(\"title\").show(4, False)"
   ]
  },
  {
   "cell_type": "code",
   "execution_count": 61,
   "id": "adopted-ordering",
   "metadata": {},
   "outputs": [],
   "source": [
    "df = df.withColumn(\"title\", trim(df.title))"
   ]
  },
  {
   "cell_type": "code",
   "execution_count": 62,
   "id": "soviet-network",
   "metadata": {},
   "outputs": [
    {
     "name": "stdout",
     "output_type": "stream",
     "text": [
      "+--------------------------------------------------------------+\n",
      "|title                                                         |\n",
      "+--------------------------------------------------------------+\n",
      "|WE WANT TO TALK ABOUT OUR MARRIAGE                            |\n",
      "|The Trump Presidency: Last Week Tonight with John Oliver (HBO)|\n",
      "|Racist Superman | Rudy Mancuso, King Bach & Lele Pons         |\n",
      "|Nickelback Lyrics: Real or Fake?                              |\n",
      "+--------------------------------------------------------------+\n",
      "only showing top 4 rows\n",
      "\n"
     ]
    }
   ],
   "source": [
    "df.select(\"title\").show(4, False)"
   ]
  },
  {
   "cell_type": "markdown",
   "id": "modified-sapphire",
   "metadata": {},
   "source": [
    "__Lower Function__"
   ]
  },
  {
   "cell_type": "code",
   "execution_count": 64,
   "id": "alien-taste",
   "metadata": {},
   "outputs": [
    {
     "name": "stdout",
     "output_type": "stream",
     "text": [
      "+--------------------------------------------------------------+--------------------------------------------------------------+\n",
      "|title                                                         |lower                                                         |\n",
      "+--------------------------------------------------------------+--------------------------------------------------------------+\n",
      "|WE WANT TO TALK ABOUT OUR MARRIAGE                            |we want to talk about our marriage                            |\n",
      "|The Trump Presidency: Last Week Tonight with John Oliver (HBO)|the trump presidency: last week tonight with john oliver (hbo)|\n",
      "|Racist Superman | Rudy Mancuso, King Bach & Lele Pons         |racist superman | rudy mancuso, king bach & lele pons         |\n",
      "|Nickelback Lyrics: Real or Fake?                              |nickelback lyrics: real or fake?                              |\n",
      "|I Dare You: GOING BALD!?                                      |i dare you: going bald!?                                      |\n",
      "+--------------------------------------------------------------+--------------------------------------------------------------+\n",
      "only showing top 5 rows\n",
      "\n"
     ]
    }
   ],
   "source": [
    "df.select(\"title\", lower(df.title).alias(\"lower\")).show(5, truncate=False)"
   ]
  },
  {
   "cell_type": "markdown",
   "id": "legitimate-abuse",
   "metadata": {},
   "source": [
    "__case / when__"
   ]
  },
  {
   "cell_type": "code",
   "execution_count": 76,
   "id": "french-format",
   "metadata": {},
   "outputs": [
    {
     "name": "stdout",
     "output_type": "stream",
     "text": [
      "+-----+--------+------------+\n",
      "|likes|dislikes|Favorability|\n",
      "+-----+--------+------------+\n",
      "|    1|       0|        Good|\n",
      "|    1|       0|        Good|\n",
      "|    1|       3|         Bad|\n",
      "|    1|       0|        Good|\n",
      "|    1|       0|        Good|\n",
      "|    1|       1|Undertemined|\n",
      "|    1|       0|        Good|\n",
      "|    1|       0|        Good|\n",
      "|    2|       2|Undertemined|\n",
      "|    2|       0|        Good|\n",
      "|    2|       0|        Good|\n",
      "|    2|       0|        Good|\n",
      "|    2|       0|        Good|\n",
      "|    2|       4|         Bad|\n",
      "|    2|       2|Undertemined|\n",
      "|    2|      14|         Bad|\n",
      "|    2|       2|Undertemined|\n",
      "|    2|       4|         Bad|\n",
      "|    2|       2|Undertemined|\n",
      "|    2|       2|Undertemined|\n",
      "+-----+--------+------------+\n",
      "only showing top 20 rows\n",
      "\n"
     ]
    }
   ],
   "source": [
    "# Option 1: when / otherwise\n",
    "(\n",
    "    df\n",
    "    .select(\n",
    "        \"likes\", \n",
    "        \"dislikes\",\n",
    "        (\n",
    "            when(df.likes > df.dislikes, \"Good\")\n",
    "            .when(df.likes < df.dislikes, \"Bad\")\n",
    "            .otherwise(\"Undertemined\")\n",
    "            .alias(\"Favorability\")\n",
    "        )\n",
    "    )\n",
    "    .where(df.likes > 0)\n",
    "    .orderBy(df.likes)\n",
    "    .show(truncate=True)\n",
    ")"
   ]
  },
  {
   "cell_type": "code",
   "execution_count": 81,
   "id": "organized-sherman",
   "metadata": {},
   "outputs": [
    {
     "name": "stdout",
     "output_type": "stream",
     "text": [
      "+-----+--------+------------+\n",
      "|likes|dislikes|Favorability|\n",
      "+-----+--------+------------+\n",
      "|    1|       0|        Good|\n",
      "|    1|       0|        Good|\n",
      "|    1|       0|        Good|\n",
      "|    1|       3|         Bad|\n",
      "|    1|       0|        Good|\n",
      "|    1|       0|        Good|\n",
      "|    1|       1|Undertemined|\n",
      "|    1|       0|        Good|\n",
      "|    2|       0|        Good|\n",
      "|    2|      14|         Bad|\n",
      "|    2|       0|        Good|\n",
      "|    2|       3|         Bad|\n",
      "|    2|       0|        Good|\n",
      "|    2|       4|         Bad|\n",
      "|    2|       0|        Good|\n",
      "|    2|       0|        Good|\n",
      "|    2|       0|        Good|\n",
      "|    2|       4|         Bad|\n",
      "|    2|       0|        Good|\n",
      "|    2|      16|         Bad|\n",
      "+-----+--------+------------+\n",
      "only showing top 20 rows\n",
      "\n"
     ]
    }
   ],
   "source": [
    "# Option 2: with expr\n",
    "\n",
    "(\n",
    "    df\n",
    "    .select(\n",
    "        \"likes\",\n",
    "        \"dislikes\",\n",
    "        expr(\n",
    "            \"CASE\"\n",
    "            \"  WHEN likes > dislikes THEN 'Good'\"\n",
    "            \"  WHEN likes < dislikes THEN 'Bad'\"\n",
    "            \"  ELSE                       'Undertemined' \"\n",
    "            \"END AS Favorability\"\n",
    "        )\n",
    "        # You could also use alias() function here\n",
    "    )\n",
    "    .where(df.likes > 0)\n",
    "    .orderBy(df.likes)\n",
    "    .show()\n",
    ")"
   ]
  },
  {
   "cell_type": "code",
   "execution_count": 82,
   "id": "flying-production",
   "metadata": {},
   "outputs": [
    {
     "name": "stdout",
     "output_type": "stream",
     "text": [
      "+-----+--------+------------+\n",
      "|likes|dislikes|Favorability|\n",
      "+-----+--------+------------+\n",
      "|    1|       0|        Good|\n",
      "|    1|       0|        Good|\n",
      "|    1|       1|Undertemined|\n",
      "|    1|       0|        Good|\n",
      "|    1|       3|         Bad|\n",
      "|    1|       0|        Good|\n",
      "|    1|       0|        Good|\n",
      "|    1|       0|        Good|\n",
      "|    2|       0|        Good|\n",
      "|    2|       0|        Good|\n",
      "|    2|       1|        Good|\n",
      "|    2|       0|        Good|\n",
      "|    2|       1|        Good|\n",
      "|    2|       0|        Good|\n",
      "|    2|       0|        Good|\n",
      "|    2|       0|        Good|\n",
      "|    2|       0|        Good|\n",
      "|    2|       1|        Good|\n",
      "|    2|       0|        Good|\n",
      "|    2|       0|        Good|\n",
      "+-----+--------+------------+\n",
      "only showing top 20 rows\n",
      "\n"
     ]
    }
   ],
   "source": [
    "# Option 2: with selectExpr\n",
    "\n",
    "(\n",
    "    df\n",
    "    .selectExpr(\n",
    "        \"likes\",\n",
    "        \"dislikes\",\n",
    "        \"CASE\"\n",
    "        \"  WHEN likes > dislikes THEN 'Good'\"\n",
    "        \"  WHEN likes < dislikes THEN 'Bad'\"\n",
    "        \"  ELSE                       'Undertemined' \"\n",
    "        \"END AS Favorability\"\n",
    "    )\n",
    "    .where(df.likes > 0)\n",
    "    .orderBy(df.likes)\n",
    "    .show()\n",
    ")"
   ]
  },
  {
   "cell_type": "markdown",
   "id": "likely-austria",
   "metadata": {},
   "source": [
    "__Concatenate__"
   ]
  },
  {
   "cell_type": "code",
   "execution_count": 84,
   "id": "handmade-richmond",
   "metadata": {},
   "outputs": [
    {
     "name": "stdout",
     "output_type": "stream",
     "text": [
      "+----------------------------------------------------------------------------------+\n",
      "|concatenated                                                                      |\n",
      "+----------------------------------------------------------------------------------+\n",
      "|WE WANT TO TALK ABOUT OUR MARRIAGE -|- CaseyNeistat                               |\n",
      "|The Trump Presidency: Last Week Tonight with John Oliver (HBO) -|- LastWeekTonight|\n",
      "|Racist Superman | Rudy Mancuso, King Bach & Lele Pons -|- Rudy Mancuso            |\n",
      "|Nickelback Lyrics: Real or Fake? -|- Good Mythical Morning                        |\n",
      "|I Dare You: GOING BALD!? -|- nigahiga                                             |\n",
      "+----------------------------------------------------------------------------------+\n",
      "only showing top 5 rows\n",
      "\n"
     ]
    }
   ],
   "source": [
    "df.select(\n",
    "    concat_ws(\n",
    "        \" -|- \", df.title, df.channel_title\n",
    "    ).alias(\"concatenated\")\n",
    ").show(5, truncate=False)"
   ]
  },
  {
   "cell_type": "code",
   "execution_count": 87,
   "id": "italian-branch",
   "metadata": {},
   "outputs": [
    {
     "name": "stdout",
     "output_type": "stream",
     "text": [
      "+-------------+-------------------+--------------------+\n",
      "|trending_date|year(trending_date)|month(trending_date)|\n",
      "+-------------+-------------------+--------------------+\n",
      "|   2017-01-14|               2017|                   1|\n",
      "|   2017-01-14|               2017|                   1|\n",
      "|   2017-01-14|               2017|                   1|\n",
      "|   2017-01-14|               2017|                   1|\n",
      "|   2017-01-14|               2017|                   1|\n",
      "+-------------+-------------------+--------------------+\n",
      "only showing top 5 rows\n",
      "\n"
     ]
    }
   ],
   "source": [
    "df.select(\n",
    "    \"trending_date\", \n",
    "    year(\"trending_date\"), \n",
    "    month(\"trending_date\")\n",
    ").show(5)"
   ]
  },
  {
   "cell_type": "code",
   "execution_count": 91,
   "id": "rough-venice",
   "metadata": {},
   "outputs": [
    {
     "name": "stdout",
     "output_type": "stream",
     "text": [
      "+-------------+-------------------+---------------------------------------------+\n",
      "|trending_date|publish_time       |(datediff(publish_time, trending_date) / 365)|\n",
      "+-------------+-------------------+---------------------------------------------+\n",
      "|2017-01-14   |2017-11-13 15:13:01|0.8301369863013699                           |\n",
      "|2017-01-14   |2017-11-13 05:30:00|0.8301369863013699                           |\n",
      "|2017-01-14   |2017-11-12 17:05:24|0.8273972602739726                           |\n",
      "|2017-01-14   |2017-11-13 09:00:04|0.8301369863013699                           |\n",
      "|2017-01-14   |2017-11-12 16:01:41|0.8273972602739726                           |\n",
      "+-------------+-------------------+---------------------------------------------+\n",
      "only showing top 5 rows\n",
      "\n"
     ]
    }
   ],
   "source": [
    "(\n",
    "    df.select(\n",
    "        \"trending_date\", \n",
    "        \"publish_time\",\n",
    "        datediff(\n",
    "            df.publish_time,\n",
    "            df.trending_date\n",
    "        ) / 365\n",
    "    )\n",
    "    .show(5, truncate=False)\n",
    ")"
   ]
  },
  {
   "cell_type": "code",
   "execution_count": 94,
   "id": "stuck-spencer",
   "metadata": {},
   "outputs": [
    {
     "name": "stdout",
     "output_type": "stream",
     "text": [
      "+--------------------------------------------------------------+-------------------------------------------------------------------------+\n",
      "|title                                                         |splited                                                                  |\n",
      "+--------------------------------------------------------------+-------------------------------------------------------------------------+\n",
      "|WE WANT TO TALK ABOUT OUR MARRIAGE                            |[WE, WANT, TO, TALK, ABOUT, OUR, MARRIAGE]                               |\n",
      "|The Trump Presidency: Last Week Tonight with John Oliver (HBO)|[The, Trump, Presidency:, Last, Week, Tonight, with, John, Oliver, (HBO)]|\n",
      "|Racist Superman | Rudy Mancuso, King Bach & Lele Pons         |[Racist, Superman, |, Rudy, Mancuso,, King, Bach, &, Lele, Pons]         |\n",
      "|Nickelback Lyrics: Real or Fake?                              |[Nickelback, Lyrics:, Real, or, Fake?]                                   |\n",
      "|I Dare You: GOING BALD!?                                      |[I, Dare, You:, GOING, BALD!?]                                           |\n",
      "+--------------------------------------------------------------+-------------------------------------------------------------------------+\n",
      "only showing top 5 rows\n",
      "\n"
     ]
    }
   ],
   "source": [
    "array = df.select(\n",
    "    \"title\", \n",
    "    split(df.title, \" \").alias(\"splited\")\n",
    ")\n",
    "\n",
    "array.show(5, truncate=False)"
   ]
  },
  {
   "cell_type": "code",
   "execution_count": 96,
   "id": "sound-portsmouth",
   "metadata": {},
   "outputs": [
    {
     "name": "stdout",
     "output_type": "stream",
     "text": [
      "+--------------------------------------------------------------+---------------------------------+\n",
      "|title                                                         |array_contains(splited, MARRIAGE)|\n",
      "+--------------------------------------------------------------+---------------------------------+\n",
      "|WE WANT TO TALK ABOUT OUR MARRIAGE                            |true                             |\n",
      "|The Trump Presidency: Last Week Tonight with John Oliver (HBO)|false                            |\n",
      "|Racist Superman | Rudy Mancuso, King Bach & Lele Pons         |false                            |\n",
      "|Nickelback Lyrics: Real or Fake?                              |false                            |\n",
      "|I Dare You: GOING BALD!?                                      |false                            |\n",
      "+--------------------------------------------------------------+---------------------------------+\n",
      "only showing top 5 rows\n",
      "\n"
     ]
    }
   ],
   "source": [
    "array.select(\n",
    "    \"title\", array_contains(array.splited, \"MARRIAGE\")\n",
    ").show(5, truncate=False)"
   ]
  },
  {
   "cell_type": "code",
   "execution_count": 98,
   "id": "incoming-european",
   "metadata": {},
   "outputs": [],
   "source": [
    "from pyspark.sql.functions import udf\n",
    "from pyspark.sql.types import IntegerType"
   ]
  },
  {
   "cell_type": "code",
   "execution_count": 100,
   "id": "iraqi-clerk",
   "metadata": {},
   "outputs": [],
   "source": [
    "def square(x):\n",
    "    return int(x ** 2)"
   ]
  },
  {
   "cell_type": "code",
   "execution_count": 103,
   "id": "numerous-hayes",
   "metadata": {},
   "outputs": [],
   "source": [
    "square_udf = udf(lambda v: square(v), IntegerType())"
   ]
  },
  {
   "cell_type": "code",
   "execution_count": 105,
   "id": "postal-reliance",
   "metadata": {},
   "outputs": [
    {
     "name": "stdout",
     "output_type": "stream",
     "text": [
      "+--------+--------+\n",
      "|dislikes|  square|\n",
      "+--------+--------+\n",
      "|    2966| 8797156|\n",
      "|    6146|37773316|\n",
      "|    5339|28504921|\n",
      "|     666|  443556|\n",
      "|    1989| 3956121|\n",
      "+--------+--------+\n",
      "only showing top 5 rows\n",
      "\n"
     ]
    }
   ],
   "source": [
    "(\n",
    "    df.select(\n",
    "        \"dislikes\", square_udf(\"dislikes\").alias(\"square\")\n",
    "    )\n",
    "    .where(col(\"dislikes\").isNotNull())\n",
    "    .show(5)\n",
    ")"
   ]
  }
 ],
 "metadata": {
  "kernelspec": {
   "display_name": "Python 3",
   "language": "python",
   "name": "python3"
  },
  "language_info": {
   "codemirror_mode": {
    "name": "ipython",
    "version": 3
   },
   "file_extension": ".py",
   "mimetype": "text/x-python",
   "name": "python",
   "nbconvert_exporter": "python",
   "pygments_lexer": "ipython3",
   "version": "3.8.5"
  }
 },
 "nbformat": 4,
 "nbformat_minor": 5
}
